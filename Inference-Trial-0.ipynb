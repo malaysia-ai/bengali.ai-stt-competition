{
 "cells": [
  {
   "cell_type": "code",
   "execution_count": 1,
   "id": "09883939",
   "metadata": {},
   "outputs": [
    {
     "name": "stderr",
     "output_type": "stream",
     "text": [
      "2023-09-19 01:24:24.585828: I tensorflow/core/platform/cpu_feature_guard.cc:182] This TensorFlow binary is optimized to use available CPU instructions in performance-critical operations.\n",
      "To enable the following instructions: AVX2 FMA, in other operations, rebuild TensorFlow with the appropriate compiler flags.\n",
      "2023-09-19 01:24:25.290869: W tensorflow/compiler/tf2tensorrt/utils/py_utils.cc:38] TF-TRT Warning: Could not find TensorRT\n"
     ]
    },
    {
     "name": "stdout",
     "output_type": "stream",
     "text": [
      "[2023-09-19 01:24:27,324] [INFO] [real_accelerator.py:158:get_accelerator] Setting ds_accelerator to cuda (auto detect)\n"
     ]
    }
   ],
   "source": [
    "import pandas as pd\n",
    "import os\n",
    "import torch\n",
    "import json\n",
    "import librosa\n",
    "from transformers import AutoProcessor, Wav2Vec2ForCTC, Wav2Vec2CTCTokenizer, Wav2Vec2FeatureExtractor, Wav2Vec2Processor\n",
    "from torch.utils.data import DataLoader, Dataset\n",
    "from torch.nn.utils.rnn import pad_sequence\n",
    "from tqdm import tqdm"
   ]
  },
  {
   "cell_type": "code",
   "execution_count": 4,
   "id": "e9591083",
   "metadata": {},
   "outputs": [
    {
     "name": "stdout",
     "output_type": "stream",
     "text": [
      "Downloading wav2vec2-checkpoint-74800-newdata.zip to /home/ubuntu/bengali/speech-to-text\n",
      "100%|█████████████████████████████████████▉| 3.21G/3.21G [03:19<00:00, 16.3MB/s]\n",
      "100%|██████████████████████████████████████| 3.21G/3.21G [03:20<00:00, 17.2MB/s]\n"
     ]
    }
   ],
   "source": [
    "!~/.local/bin/kaggle datasets download -d aisyahhrazak/wav2vec2-checkpoint-74800-newdata"
   ]
  },
  {
   "cell_type": "code",
   "execution_count": 6,
   "id": "ac4126c9",
   "metadata": {},
   "outputs": [
    {
     "name": "stdout",
     "output_type": "stream",
     "text": [
      "Archive:  wav2vec2-checkpoint-74800-newdata.zip\n",
      "  inflating: wav2vec2-checkpoint-74800-newdata/config.json  \n",
      "  inflating: wav2vec2-checkpoint-74800-newdata/optimizer.pt  \n",
      "  inflating: wav2vec2-checkpoint-74800-newdata/preprocessor_config.json  \n",
      "  inflating: wav2vec2-checkpoint-74800-newdata/pytorch_model.bin  \n",
      "  inflating: wav2vec2-checkpoint-74800-newdata/rng_state.pth  \n",
      "  inflating: wav2vec2-checkpoint-74800-newdata/scheduler.pt  \n",
      "  inflating: wav2vec2-checkpoint-74800-newdata/special_tokens_map.json  \n",
      "  inflating: wav2vec2-checkpoint-74800-newdata/tokenizer_config.json  \n",
      "  inflating: wav2vec2-checkpoint-74800-newdata/trainer_state.json  \n",
      "  inflating: wav2vec2-checkpoint-74800-newdata/training_args.bin  \n",
      "  inflating: wav2vec2-checkpoint-74800-newdata/vocab.json  \n"
     ]
    }
   ],
   "source": [
    "!unzip wav2vec2-checkpoint-74800-newdata.zip -d wav2vec2-checkpoint-74800-newdata"
   ]
  },
  {
   "cell_type": "code",
   "execution_count": 10,
   "id": "5ddd89c9",
   "metadata": {},
   "outputs": [
    {
     "name": "stdout",
     "output_type": "stream",
     "text": [
      "/home/ubuntu/bengali/speech-to-text\r\n"
     ]
    }
   ],
   "source": [
    "!pwd"
   ]
  },
  {
   "cell_type": "code",
   "execution_count": 3,
   "id": "9f6ad383",
   "metadata": {},
   "outputs": [],
   "source": [
    "class BengaliDataset(Dataset):\n",
    "    def __init__(self, df, processor):\n",
    "        self.df = df\n",
    "        self.processor = processor\n",
    "\n",
    "    def __getitem__(self, idx):\n",
    "        audio_path = self.df.loc[idx]['path']\n",
    "        audio_array = self.read_audio(audio_path)\n",
    "\n",
    "        inputs = self.processor(\n",
    "            audio_array,\n",
    "            sampling_rate=16_000,\n",
    "            return_tensors='pt'\n",
    "        )\n",
    "\n",
    "        with self.processor.as_target_processor():\n",
    "            labels = self.processor(self.df.loc[idx]['sentence']).input_ids\n",
    "\n",
    "        return {'input_values': inputs['input_values'].squeeze(0), 'labels': labels}\n",
    "\n",
    "    def __len__(self):\n",
    "        return len(self.df)\n",
    "\n",
    "    def read_audio(self, mp3_path):\n",
    "        target_sr = 16000  # Set the target sampling rate\n",
    "\n",
    "        audio, sr = librosa.load(mp3_path, sr=None)  # Load with original sampling rate\n",
    "        audio_array = librosa.resample(audio, orig_sr=sr, target_sr=target_sr)\n",
    "\n",
    "        return audio_array"
   ]
  },
  {
   "cell_type": "code",
   "execution_count": 191,
   "id": "541aaef5",
   "metadata": {},
   "outputs": [
    {
     "name": "stderr",
     "output_type": "stream",
     "text": [
      "Special tokens have been added in the vocabulary, make sure the associated word embeddings are fine-tuned or trained.\n"
     ]
    }
   ],
   "source": [
    "processor = AutoProcessor.from_pretrained(\"/home/ubuntu/bengali/speech-to-text/training/mms-1b/checkpoint-400\")\n",
    "model = Wav2Vec2ForCTC.from_pretrained(\"/home/ubuntu/bengali/speech-to-text/training/mms-1b/checkpoint-400\")"
   ]
  },
  {
   "cell_type": "code",
   "execution_count": 15,
   "id": "7ef30c2a",
   "metadata": {},
   "outputs": [],
   "source": [
    "processor = AutoProcessor.from_pretrained(\"/home/ubuntu/bengali/speech-to-text/training/wav2vec2_old/checkpoint-7600\")\n",
    "model = Wav2Vec2ForCTC.from_pretrained(\"/home/ubuntu/bengali/speech-to-text/training/wav2vec2_old/checkpoint-7600\")"
   ]
  },
  {
   "cell_type": "code",
   "execution_count": 3,
   "id": "21c1f275",
   "metadata": {},
   "outputs": [
    {
     "name": "stderr",
     "output_type": "stream",
     "text": [
      "Special tokens have been added in the vocabulary, make sure the associated word embeddings are fine-tuned or trained.\n"
     ]
    }
   ],
   "source": [
    "processor = AutoProcessor.from_pretrained(\"/home/ubuntu/bengali/speech-to-text/training/wav2vec2-bengali-xlsr/checkpoint-38800\")\n",
    "model = Wav2Vec2ForCTC.from_pretrained(\"/home/ubuntu/bengali/speech-to-text/training/wav2vec2-bengali-xlsr/checkpoint-38800\")"
   ]
  },
  {
   "cell_type": "code",
   "execution_count": 4,
   "id": "0609f2ab",
   "metadata": {},
   "outputs": [
    {
     "name": "stderr",
     "output_type": "stream",
     "text": [
      "Special tokens have been added in the vocabulary, make sure the associated word embeddings are fine-tuned or trained.\n"
     ]
    }
   ],
   "source": [
    "processor = AutoProcessor.from_pretrained(\"/home/ubuntu/bengali/speech-to-text/wav2vec2-checkpoint-74800-newdata\")\n",
    "model = Wav2Vec2ForCTC.from_pretrained(\"/home/ubuntu/bengali/speech-to-text/wav2vec2-checkpoint-74800-newdata\")"
   ]
  },
  {
   "cell_type": "code",
   "execution_count": null,
   "id": "dc5940cb",
   "metadata": {
    "scrolled": true
   },
   "outputs": [],
   "source": [
    "# processor.tokenizer.set_target_lang(\"ben\")"
   ]
  },
  {
   "cell_type": "code",
   "execution_count": 16,
   "id": "36cad1a6",
   "metadata": {},
   "outputs": [],
   "source": [
    "processor"
   ]
  },
  {
   "cell_type": "code",
   "execution_count": 119,
   "id": "fffc5c1e",
   "metadata": {},
   "outputs": [
    {
     "data": {
      "text/plain": [
       "Wav2Vec2CTCTokenizer(name_or_path='/home/ubuntu/bengali/speech-to-text/training/mms-1b/checkpoint-400', vocab_size=81, model_max_length=1000000000000000019884624838656, is_fast=False, padding_side='right', truncation_side='right', special_tokens={'bos_token': '<s>', 'eos_token': '</s>', 'unk_token': '[UNK]', 'pad_token': '[PAD]', 'additional_special_tokens': [AddedToken(\"<s>\", rstrip=False, lstrip=False, single_word=False, normalized=True), AddedToken(\"</s>\", rstrip=False, lstrip=False, single_word=False, normalized=True)]}, clean_up_tokenization_spaces=True)"
      ]
     },
     "execution_count": 119,
     "metadata": {},
     "output_type": "execute_result"
    }
   ],
   "source": [
    "processor.tokenizer"
   ]
  },
  {
   "cell_type": "code",
   "execution_count": 122,
   "id": "21e0702e",
   "metadata": {},
   "outputs": [],
   "source": [
    "# with open('vocab.json', 'w') as fopen:\n",
    "#     json.dump(processor.tokenizer.vocab['ben'], fopen)"
   ]
  },
  {
   "cell_type": "code",
   "execution_count": 123,
   "id": "c3064ab5",
   "metadata": {
    "scrolled": true
   },
   "outputs": [
    {
     "data": {
      "text/plain": [
       "{'‘': 0,\n",
       " '/': 1,\n",
       " 'ণ': 2,\n",
       " 'ধ': 3,\n",
       " 'ূ': 4,\n",
       " 'হ': 5,\n",
       " 'ী': 6,\n",
       " 'ট': 7,\n",
       " 'ভ': 8,\n",
       " '…': 9,\n",
       " 'ঊ': 10,\n",
       " 'অ': 11,\n",
       " 'ও': 12,\n",
       " 'ড': 13,\n",
       " 'য়': 14,\n",
       " 'ং': 15,\n",
       " 'ঠ': 16,\n",
       " '॥': 17,\n",
       " 'ফ': 18,\n",
       " 'ৰ': 19,\n",
       " 'ঈ': 20,\n",
       " 'ম': 21,\n",
       " 'ত': 22,\n",
       " 'উ': 23,\n",
       " 'ু': 24,\n",
       " 'ঢ': 25,\n",
       " 'ঙ': 26,\n",
       " 'ঢ়': 27,\n",
       " 'ঘ': 28,\n",
       " '”': 29,\n",
       " 'ক': 30,\n",
       " '়': 31,\n",
       " 'প': 32,\n",
       " 'ৎ': 33,\n",
       " 'ঝ': 34,\n",
       " 'ি': 35,\n",
       " '।': 36,\n",
       " '’': 37,\n",
       " 'ে': 38,\n",
       " 'ষ': 39,\n",
       " 'খ': 40,\n",
       " 'ৃ': 41,\n",
       " '–': 42,\n",
       " '৵': 44,\n",
       " 'ন': 45,\n",
       " 'ঔ': 46,\n",
       " 'শ': 47,\n",
       " 'ব': 48,\n",
       " 'ৌ': 49,\n",
       " 'য': 50,\n",
       " 'দ': 51,\n",
       " '‚': 52,\n",
       " \"'\": 53,\n",
       " 'ঋ': 54,\n",
       " 'ই': 55,\n",
       " 'ঁ': 56,\n",
       " 'ৗ': 57,\n",
       " 'চ': 58,\n",
       " 'স': 59,\n",
       " '্': 60,\n",
       " 'আ': 61,\n",
       " 'জ': 62,\n",
       " 'থ': 63,\n",
       " 'র': 64,\n",
       " 'এ': 65,\n",
       " 'ঃ': 66,\n",
       " '“': 67,\n",
       " 'ছ': 68,\n",
       " '৷': 69,\n",
       " 'ল': 70,\n",
       " 'ঐ': 71,\n",
       " 'া': 72,\n",
       " '—': 73,\n",
       " 'ো': 74,\n",
       " 'গ': 75,\n",
       " 'ঞ': 76,\n",
       " 'ৈ': 77,\n",
       " 'ড়': 78,\n",
       " '|': 43,\n",
       " '[UNK]': 79,\n",
       " '[PAD]': 80}"
      ]
     },
     "execution_count": 123,
     "metadata": {},
     "output_type": "execute_result"
    }
   ],
   "source": [
    "with open(\"/home/ubuntu/bengali/speech-to-text/training/vocab_folder/vocab.json\", \"r\") as json_file:\n",
    "    data=json.load(json_file)\n",
    "    \n",
    "data"
   ]
  },
  {
   "cell_type": "code",
   "execution_count": 5,
   "id": "18e1088f",
   "metadata": {},
   "outputs": [],
   "source": [
    "tokenizer = Wav2Vec2CTCTokenizer(\n",
    "    \"/home/ubuntu/bengali/speech-to-text/wav2vec2-checkpoint-74800-newdata/vocab.json\", \n",
    "    unk_token=\"<unk>\",\n",
    "    pad_token=\"<pad>\",\n",
    "    word_delimiter_token=\"|\"\n",
    ")\n",
    "\n",
    "feature_extractor = Wav2Vec2FeatureExtractor(\n",
    "    feature_size=1,\n",
    "    sampling_rate=16000,\n",
    "    padding_value=0.0,\n",
    "    do_normalize=True,\n",
    "    return_attention_mask=True\n",
    ")"
   ]
  },
  {
   "cell_type": "code",
   "execution_count": 6,
   "id": "daa7fe4c",
   "metadata": {},
   "outputs": [],
   "source": [
    "test = pd.read_csv('../data/train.csv')\n",
    "test = test[test['split'] =='valid'].reset_index(drop=True)\n",
    "test['path'] = test['id'].apply(lambda x: os.path.join('/home/ubuntu/bengali/data/train_mp3s', x+'.mp3'))"
   ]
  },
  {
   "cell_type": "code",
   "execution_count": 31,
   "id": "7fef2fcd",
   "metadata": {},
   "outputs": [],
   "source": [
    "test = pd.read_parquet(\"/home/ubuntu/bengali/data/LATEST_DATA_WAV2VEC2_DURATION.parquet\")"
   ]
  },
  {
   "cell_type": "code",
   "execution_count": 32,
   "id": "0b5d1e2a",
   "metadata": {
    "scrolled": true
   },
   "outputs": [
    {
     "data": {
      "text/html": [
       "<div>\n",
       "<style scoped>\n",
       "    .dataframe tbody tr th:only-of-type {\n",
       "        vertical-align: middle;\n",
       "    }\n",
       "\n",
       "    .dataframe tbody tr th {\n",
       "        vertical-align: top;\n",
       "    }\n",
       "\n",
       "    .dataframe thead th {\n",
       "        text-align: right;\n",
       "    }\n",
       "</style>\n",
       "<table border=\"1\" class=\"dataframe\">\n",
       "  <thead>\n",
       "    <tr style=\"text-align: right;\">\n",
       "      <th></th>\n",
       "      <th>sentence</th>\n",
       "      <th>path</th>\n",
       "      <th>filename_x</th>\n",
       "      <th>durs</th>\n",
       "      <th>filename_y</th>\n",
       "      <th>length_sentence</th>\n",
       "      <th>check_len</th>\n",
       "    </tr>\n",
       "  </thead>\n",
       "  <tbody>\n",
       "    <tr>\n",
       "      <th>0</th>\n",
       "      <td>এক মাইলের কম থেকে শুরু করে বেশি দূরত্ব যা কিনা...</td>\n",
       "      <td>/home/ubuntu/bengali/data/train/10007728875760...</td>\n",
       "      <td>/home/ubuntu/bengali/data/train/10007728875760...</td>\n",
       "      <td>10.200</td>\n",
       "      <td>/home/ubuntu/bengali/data/train/10007728875760...</td>\n",
       "      <td>20</td>\n",
       "      <td>valid</td>\n",
       "    </tr>\n",
       "    <tr>\n",
       "      <th>1</th>\n",
       "      <td>ব্রাজিলের জাতীয় কংগ্রেস সামাজিক বিবাহকে 10 বছর...</td>\n",
       "      <td>/home/ubuntu/bengali/data/train/10027935128938...</td>\n",
       "      <td>/home/ubuntu/bengali/data/train/10027935128938...</td>\n",
       "      <td>14.040</td>\n",
       "      <td>/home/ubuntu/bengali/data/train/10027935128938...</td>\n",
       "      <td>24</td>\n",
       "      <td>valid</td>\n",
       "    </tr>\n",
       "    <tr>\n",
       "      <th>2</th>\n",
       "      <td>স্থলরেখা থেকে অনেক দূরে থাকায় মার্কিন যুক্তরাষ...</td>\n",
       "      <td>/home/ubuntu/bengali/data/train/10031075386419...</td>\n",
       "      <td>/home/ubuntu/bengali/data/train/10031075386419...</td>\n",
       "      <td>14.040</td>\n",
       "      <td>/home/ubuntu/bengali/data/train/10031075386419...</td>\n",
       "      <td>18</td>\n",
       "      <td>valid</td>\n",
       "    </tr>\n",
       "    <tr>\n",
       "      <th>3</th>\n",
       "      <td>বর্তমানে অনেক সামি আধুনিক ব্যবসায় কাজ করে।সামি...</td>\n",
       "      <td>/home/ubuntu/bengali/data/train/10032118353482...</td>\n",
       "      <td>/home/ubuntu/bengali/data/train/10032118353482...</td>\n",
       "      <td>9.360</td>\n",
       "      <td>/home/ubuntu/bengali/data/train/10032118353482...</td>\n",
       "      <td>14</td>\n",
       "      <td>valid</td>\n",
       "    </tr>\n",
       "    <tr>\n",
       "      <th>4</th>\n",
       "      <td>অশ্বরোহীর পাদান তার পায়ের সাপোর্টের জন্য যা অশ...</td>\n",
       "      <td>/home/ubuntu/bengali/data/train/10033964478741...</td>\n",
       "      <td>/home/ubuntu/bengali/data/train/10033964478741...</td>\n",
       "      <td>8.520</td>\n",
       "      <td>/home/ubuntu/bengali/data/train/10033964478741...</td>\n",
       "      <td>12</td>\n",
       "      <td>valid</td>\n",
       "    </tr>\n",
       "    <tr>\n",
       "      <th>...</th>\n",
       "      <td>...</td>\n",
       "      <td>...</td>\n",
       "      <td>...</td>\n",
       "      <td>...</td>\n",
       "      <td>...</td>\n",
       "      <td>...</td>\n",
       "      <td>...</td>\n",
       "    </tr>\n",
       "    <tr>\n",
       "      <th>967959</th>\n",
       "      <td>আপনার সাথে কথা বলতে চাই।</td>\n",
       "      <td>/home/ubuntu/bengali/data/train_mp3s/ffffd0710...</td>\n",
       "      <td>/home/ubuntu/bengali/data/train_mp3s/ffffd0710...</td>\n",
       "      <td>2.340</td>\n",
       "      <td>/home/ubuntu/bengali/data/train_mp3s/ffffd0710...</td>\n",
       "      <td>5</td>\n",
       "      <td>invalid</td>\n",
       "    </tr>\n",
       "    <tr>\n",
       "      <th>967960</th>\n",
       "      <td>সুতরাং পরের দিন আরএকটা ছবি না লইয়া চিত্রকর ছাড়...</td>\n",
       "      <td>/home/ubuntu/bengali/data/train_mp3s/ffffde376...</td>\n",
       "      <td>/home/ubuntu/bengali/data/train_mp3s/ffffde376...</td>\n",
       "      <td>4.608</td>\n",
       "      <td>/home/ubuntu/bengali/data/train_mp3s/ffffde376...</td>\n",
       "      <td>10</td>\n",
       "      <td>invalid</td>\n",
       "    </tr>\n",
       "    <tr>\n",
       "      <th>967961</th>\n",
       "      <td>সামাজিক কর্মকাণ্ডসমিতিতে গিয়ে দেখা যায় শিল্পী ...</td>\n",
       "      <td>/home/ubuntu/bengali/data/train_mp3s/ffffe1b5f...</td>\n",
       "      <td>/home/ubuntu/bengali/data/train_mp3s/ffffe1b5f...</td>\n",
       "      <td>5.688</td>\n",
       "      <td>/home/ubuntu/bengali/data/train_mp3s/ffffe1b5f...</td>\n",
       "      <td>11</td>\n",
       "      <td>valid</td>\n",
       "    </tr>\n",
       "    <tr>\n",
       "      <th>967962</th>\n",
       "      <td>গুগল ম্যাপসের সাহায্যে খুঁজে পাওয়া যাবে কোন জা...</td>\n",
       "      <td>/home/ubuntu/bengali/data/train_mp3s/ffffec316...</td>\n",
       "      <td>/home/ubuntu/bengali/data/train_mp3s/ffffec316...</td>\n",
       "      <td>5.400</td>\n",
       "      <td>/home/ubuntu/bengali/data/train_mp3s/ffffec316...</td>\n",
       "      <td>12</td>\n",
       "      <td>valid</td>\n",
       "    </tr>\n",
       "    <tr>\n",
       "      <th>967963</th>\n",
       "      <td>তোমরা আমাকে কী নাম ধরে ডাকবে</td>\n",
       "      <td>/home/ubuntu/bengali/data/train_mp3s/fffff9f38...</td>\n",
       "      <td>/home/ubuntu/bengali/data/train_mp3s/fffff9f38...</td>\n",
       "      <td>2.916</td>\n",
       "      <td>/home/ubuntu/bengali/data/train_mp3s/fffff9f38...</td>\n",
       "      <td>6</td>\n",
       "      <td>invalid</td>\n",
       "    </tr>\n",
       "  </tbody>\n",
       "</table>\n",
       "<p>967964 rows × 7 columns</p>\n",
       "</div>"
      ],
      "text/plain": [
       "                                                 sentence  \\\n",
       "0       এক মাইলের কম থেকে শুরু করে বেশি দূরত্ব যা কিনা...   \n",
       "1       ব্রাজিলের জাতীয় কংগ্রেস সামাজিক বিবাহকে 10 বছর...   \n",
       "2       স্থলরেখা থেকে অনেক দূরে থাকায় মার্কিন যুক্তরাষ...   \n",
       "3       বর্তমানে অনেক সামি আধুনিক ব্যবসায় কাজ করে।সামি...   \n",
       "4       অশ্বরোহীর পাদান তার পায়ের সাপোর্টের জন্য যা অশ...   \n",
       "...                                                   ...   \n",
       "967959                           আপনার সাথে কথা বলতে চাই।   \n",
       "967960  সুতরাং পরের দিন আরএকটা ছবি না লইয়া চিত্রকর ছাড়...   \n",
       "967961  সামাজিক কর্মকাণ্ডসমিতিতে গিয়ে দেখা যায় শিল্পী ...   \n",
       "967962  গুগল ম্যাপসের সাহায্যে খুঁজে পাওয়া যাবে কোন জা...   \n",
       "967963                       তোমরা আমাকে কী নাম ধরে ডাকবে   \n",
       "\n",
       "                                                     path  \\\n",
       "0       /home/ubuntu/bengali/data/train/10007728875760...   \n",
       "1       /home/ubuntu/bengali/data/train/10027935128938...   \n",
       "2       /home/ubuntu/bengali/data/train/10031075386419...   \n",
       "3       /home/ubuntu/bengali/data/train/10032118353482...   \n",
       "4       /home/ubuntu/bengali/data/train/10033964478741...   \n",
       "...                                                   ...   \n",
       "967959  /home/ubuntu/bengali/data/train_mp3s/ffffd0710...   \n",
       "967960  /home/ubuntu/bengali/data/train_mp3s/ffffde376...   \n",
       "967961  /home/ubuntu/bengali/data/train_mp3s/ffffe1b5f...   \n",
       "967962  /home/ubuntu/bengali/data/train_mp3s/ffffec316...   \n",
       "967963  /home/ubuntu/bengali/data/train_mp3s/fffff9f38...   \n",
       "\n",
       "                                               filename_x    durs  \\\n",
       "0       /home/ubuntu/bengali/data/train/10007728875760...  10.200   \n",
       "1       /home/ubuntu/bengali/data/train/10027935128938...  14.040   \n",
       "2       /home/ubuntu/bengali/data/train/10031075386419...  14.040   \n",
       "3       /home/ubuntu/bengali/data/train/10032118353482...   9.360   \n",
       "4       /home/ubuntu/bengali/data/train/10033964478741...   8.520   \n",
       "...                                                   ...     ...   \n",
       "967959  /home/ubuntu/bengali/data/train_mp3s/ffffd0710...   2.340   \n",
       "967960  /home/ubuntu/bengali/data/train_mp3s/ffffde376...   4.608   \n",
       "967961  /home/ubuntu/bengali/data/train_mp3s/ffffe1b5f...   5.688   \n",
       "967962  /home/ubuntu/bengali/data/train_mp3s/ffffec316...   5.400   \n",
       "967963  /home/ubuntu/bengali/data/train_mp3s/fffff9f38...   2.916   \n",
       "\n",
       "                                               filename_y  length_sentence  \\\n",
       "0       /home/ubuntu/bengali/data/train/10007728875760...               20   \n",
       "1       /home/ubuntu/bengali/data/train/10027935128938...               24   \n",
       "2       /home/ubuntu/bengali/data/train/10031075386419...               18   \n",
       "3       /home/ubuntu/bengali/data/train/10032118353482...               14   \n",
       "4       /home/ubuntu/bengali/data/train/10033964478741...               12   \n",
       "...                                                   ...              ...   \n",
       "967959  /home/ubuntu/bengali/data/train_mp3s/ffffd0710...                5   \n",
       "967960  /home/ubuntu/bengali/data/train_mp3s/ffffde376...               10   \n",
       "967961  /home/ubuntu/bengali/data/train_mp3s/ffffe1b5f...               11   \n",
       "967962  /home/ubuntu/bengali/data/train_mp3s/ffffec316...               12   \n",
       "967963  /home/ubuntu/bengali/data/train_mp3s/fffff9f38...                6   \n",
       "\n",
       "       check_len  \n",
       "0          valid  \n",
       "1          valid  \n",
       "2          valid  \n",
       "3          valid  \n",
       "4          valid  \n",
       "...          ...  \n",
       "967959   invalid  \n",
       "967960   invalid  \n",
       "967961     valid  \n",
       "967962     valid  \n",
       "967963   invalid  \n",
       "\n",
       "[967964 rows x 7 columns]"
      ]
     },
     "execution_count": 32,
     "metadata": {},
     "output_type": "execute_result"
    }
   ],
   "source": [
    "test"
   ]
  },
  {
   "cell_type": "code",
   "execution_count": 9,
   "id": "37d25f73",
   "metadata": {},
   "outputs": [],
   "source": [
    "len_sentences = []\n",
    "for index, row in test.iterrows():\n",
    "    data = (len(row[\"sentence\"].split(\" \")))\n",
    "    len_sentences.append(data)"
   ]
  },
  {
   "cell_type": "code",
   "execution_count": 10,
   "id": "bc2e94dd",
   "metadata": {},
   "outputs": [],
   "source": [
    "test[\"length_sentence\"] = len_sentences"
   ]
  },
  {
   "cell_type": "code",
   "execution_count": 15,
   "id": "428acc55",
   "metadata": {},
   "outputs": [
    {
     "data": {
      "text/plain": [
       "(1, 52, 8197259)"
      ]
     },
     "execution_count": 15,
     "metadata": {},
     "output_type": "execute_result"
    }
   ],
   "source": [
    "min(test[\"length_sentence\"]), max(test[\"length_sentence\"]), sum(test[\"length_sentence\"])"
   ]
  },
  {
   "cell_type": "code",
   "execution_count": 16,
   "id": "7dc309f5",
   "metadata": {},
   "outputs": [
    {
     "data": {
      "text/plain": [
       "8.468557714956342"
      ]
     },
     "execution_count": 16,
     "metadata": {},
     "output_type": "execute_result"
    }
   ],
   "source": [
    "sum(test[\"length_sentence\"])/len(test)"
   ]
  },
  {
   "cell_type": "code",
   "execution_count": 35,
   "id": "aa10897e",
   "metadata": {},
   "outputs": [
    {
     "data": {
      "text/plain": [
       "(25284, 421476)"
      ]
     },
     "execution_count": 35,
     "metadata": {},
     "output_type": "execute_result"
    }
   ],
   "source": [
    "(test[\"length_sentence\"] > 15).sum(), (test[\"length_sentence\"] < 8).sum()"
   ]
  },
  {
   "cell_type": "code",
   "execution_count": 25,
   "id": "0145211b",
   "metadata": {},
   "outputs": [],
   "source": [
    "more_10 = []\n",
    "for index, row in test.iterrows():\n",
    "    if row[\"length_sentence\"] > 10:\n",
    "        more_10.append(\"valid\")\n",
    "#         print(\"valid\")\n",
    "    else:\n",
    "        more_10.append(\"invalid\")\n",
    "#         print(\"invalid\")"
   ]
  },
  {
   "cell_type": "code",
   "execution_count": 28,
   "id": "de812855",
   "metadata": {},
   "outputs": [],
   "source": [
    "test[\"check_len\"] = more_10"
   ]
  },
  {
   "cell_type": "code",
   "execution_count": 29,
   "id": "6877f50b",
   "metadata": {},
   "outputs": [
    {
     "data": {
      "text/plain": [
       "check_len\n",
       "invalid    628563\n",
       "valid      339401\n",
       "Name: count, dtype: int64"
      ]
     },
     "execution_count": 29,
     "metadata": {},
     "output_type": "execute_result"
    }
   ],
   "source": [
    "test['check_len'].value_counts()"
   ]
  },
  {
   "cell_type": "code",
   "execution_count": 30,
   "id": "38d4ef8d",
   "metadata": {},
   "outputs": [],
   "source": [
    "test.to_parquet(\"/home/ubuntu/bengali/data/LATEST_DATA_WAV2VEC2_DURATION.parquet\", index=False)"
   ]
  },
  {
   "cell_type": "code",
   "execution_count": 17,
   "id": "0d59fb3f",
   "metadata": {},
   "outputs": [
    {
     "data": {
      "image/png": "[encoded data removed]",
      "text/plain": [
       "<Figure size 800x600 with 1 Axes>"
      ]
     },
     "metadata": {},
     "output_type": "display_data"
    }
   ],
   "source": [
    "import matplotlib.pyplot as plt\n",
    "import seaborn as sns\n",
    "import pandas as pd\n",
    "\n",
    "\n",
    "# Plot the distribution\n",
    "plt.figure(figsize=(8, 6))\n",
    "sns.histplot(data=test, x='length_sentence', kde=True)\n",
    "plt.title('Distribution of Sentence Lengths')\n",
    "plt.xlabel('Sentence Length')\n",
    "plt.ylabel('Frequency')\n",
    "plt.show()\n"
   ]
  },
  {
   "cell_type": "code",
   "execution_count": null,
   "id": "b676f8f4",
   "metadata": {},
   "outputs": [],
   "source": []
  },
  {
   "cell_type": "code",
   "execution_count": null,
   "id": "99d7eb9f",
   "metadata": {},
   "outputs": [],
   "source": [
    "df = test\n",
    "df"
   ]
  },
  {
   "cell_type": "code",
   "execution_count": 179,
   "id": "5a6e657c",
   "metadata": {},
   "outputs": [
    {
     "data": {
      "text/plain": [
       "pandas.core.frame.DataFrame"
      ]
     },
     "execution_count": 179,
     "metadata": {},
     "output_type": "execute_result"
    }
   ],
   "source": [
    "type(test)"
   ]
  },
  {
   "cell_type": "code",
   "execution_count": 199,
   "id": "356758ae",
   "metadata": {
    "scrolled": true
   },
   "outputs": [],
   "source": [
    "test = BengaliDataset(test, processor)"
   ]
  },
  {
   "cell_type": "code",
   "execution_count": 204,
   "id": "3e5d3b4c",
   "metadata": {
    "scrolled": true
   },
   "outputs": [
    {
     "data": {
      "text/plain": [
       "tensor([0.0005, 0.0005, 0.0005,  ..., 0.0005, 0.0005, 0.0005])"
      ]
     },
     "execution_count": 204,
     "metadata": {},
     "output_type": "execute_result"
    }
   ],
   "source": [
    "test[0][\"input_values\"]"
   ]
  },
  {
   "cell_type": "code",
   "execution_count": null,
   "id": "907f879f",
   "metadata": {},
   "outputs": [],
   "source": []
  },
  {
   "cell_type": "code",
   "execution_count": 209,
   "id": "66072c20",
   "metadata": {
    "scrolled": true
   },
   "outputs": [
    {
     "name": "stderr",
     "output_type": "stream",
     "text": [
      "It is strongly recommended to pass the ``sampling_rate`` argument to this function. Failing to do so can result in silent errors that might be hard to debug.\n",
      "It is strongly recommended to pass the ``sampling_rate`` argument to this function. Failing to do so can result in silent errors that might be hard to debug.\n"
     ]
    }
   ],
   "source": [
    "test_0 = feature_extractor(test[0][\"input_values\"], return_tensors=\"pt\")\n",
    "test_1 = feature_extractor(test[1][\"input_values\"], return_tensors=\"pt\")"
   ]
  },
  {
   "cell_type": "code",
   "execution_count": 210,
   "id": "fb96f0ed",
   "metadata": {},
   "outputs": [
    {
     "data": {
      "text/plain": [
       "{'input_values': tensor([[0.0005, 0.0005, 0.0005,  ..., 0.0005, 0.0005, 0.0005]]), 'attention_mask': tensor([[1, 1, 1,  ..., 1, 1, 1]], dtype=torch.int32)}"
      ]
     },
     "execution_count": 210,
     "metadata": {},
     "output_type": "execute_result"
    }
   ],
   "source": [
    "test_0"
   ]
  },
  {
   "cell_type": "code",
   "execution_count": 213,
   "id": "6f354bb1",
   "metadata": {},
   "outputs": [
    {
     "data": {
      "text/plain": [
       "transformers.feature_extraction_utils.BatchFeature"
      ]
     },
     "execution_count": 213,
     "metadata": {},
     "output_type": "execute_result"
    }
   ],
   "source": [
    "type(test_0)"
   ]
  },
  {
   "cell_type": "code",
   "execution_count": 211,
   "id": "db0367e2",
   "metadata": {},
   "outputs": [
    {
     "data": {
      "text/plain": [
       "{'input_values': tensor([[0.0004, 0.0004, 0.0004,  ..., 0.0004, 0.0004, 0.0004]]), 'attention_mask': tensor([[1, 1, 1,  ..., 1, 1, 1]], dtype=torch.int32)}"
      ]
     },
     "execution_count": 211,
     "metadata": {},
     "output_type": "execute_result"
    }
   ],
   "source": [
    "test_1"
   ]
  },
  {
   "cell_type": "code",
   "execution_count": null,
   "id": "48c1442c",
   "metadata": {},
   "outputs": [],
   "source": [
    "input_features = [{\"input_values\": feature[\"input_values\"]} for feature in features]"
   ]
  },
  {
   "cell_type": "code",
   "execution_count": 219,
   "id": "377e289b",
   "metadata": {
    "scrolled": true
   },
   "outputs": [],
   "source": [
    "batch = processor.pad(\n",
    "            input_features,\n",
    "            padding=True,\n",
    "            pad_to_multiple_of=None,\n",
    "            return_tensors=\"pt\",\n",
    "        )"
   ]
  },
  {
   "cell_type": "code",
   "execution_count": 220,
   "id": "dd3d32c1",
   "metadata": {},
   "outputs": [
    {
     "data": {
      "text/plain": [
       "{'input_values': tensor([[0.0005, 0.0005, 0.0005,  ..., 0.0005, 0.0005, 0.0005],\n",
       "        [0.0004, 0.0004, 0.0004,  ..., 0.0000, 0.0000, 0.0000]]), 'attention_mask': tensor([[1, 1, 1,  ..., 1, 1, 1],\n",
       "        [1, 1, 1,  ..., 0, 0, 0]], dtype=torch.int32)}"
      ]
     },
     "execution_count": 220,
     "metadata": {},
     "output_type": "execute_result"
    }
   ],
   "source": [
    "batch"
   ]
  },
  {
   "cell_type": "code",
   "execution_count": null,
   "id": "6e7f6ebc",
   "metadata": {},
   "outputs": [],
   "source": [
    "    padding: Union[bool, str] = \"longest\"\n",
    "    pad_to_multiple_of: Optional[int] = None\n",
    "    pad_to_multiple_of_labels: Optional[int] = None"
   ]
  },
  {
   "cell_type": "code",
   "execution_count": 217,
   "id": "6fe8b903",
   "metadata": {},
   "outputs": [],
   "source": [
    "input_features = [{\"input_values\": feature[\"input_values\"][0]} for feature in [test_0, test_1]]"
   ]
  },
  {
   "cell_type": "code",
   "execution_count": 218,
   "id": "b011aa8d",
   "metadata": {},
   "outputs": [
    {
     "data": {
      "text/plain": [
       "[{'input_values': tensor([0.0005, 0.0005, 0.0005,  ..., 0.0005, 0.0005, 0.0005])},\n",
       " {'input_values': tensor([0.0004, 0.0004, 0.0004,  ..., 0.0004, 0.0004, 0.0004])}]"
      ]
     },
     "execution_count": 218,
     "metadata": {},
     "output_type": "execute_result"
    }
   ],
   "source": [
    "input_features"
   ]
  },
  {
   "cell_type": "code",
   "execution_count": 226,
   "id": "64f47e37",
   "metadata": {},
   "outputs": [
    {
     "data": {
      "text/plain": [
       "(tensor([[0.0005, 0.0005, 0.0005,  ..., 0.0005, 0.0005, 0.0005]]),\n",
       " torch.Size([1, 146880]))"
      ]
     },
     "execution_count": 226,
     "metadata": {},
     "output_type": "execute_result"
    }
   ],
   "source": [
    "test_0[\"input_values\"], test_0[\"input_values\"].shape"
   ]
  },
  {
   "cell_type": "code",
   "execution_count": 227,
   "id": "5cd9110d",
   "metadata": {},
   "outputs": [
    {
     "data": {
      "text/plain": [
       "(tensor([0.0005, 0.0005, 0.0005,  ..., 0.0005, 0.0005, 0.0005]),\n",
       " torch.Size([1, 146880]))"
      ]
     },
     "execution_count": 227,
     "metadata": {},
     "output_type": "execute_result"
    }
   ],
   "source": [
    "test_0[\"input_values\"][0], test_0[\"input_values\"].shape"
   ]
  },
  {
   "cell_type": "code",
   "execution_count": null,
   "id": "78f50026",
   "metadata": {},
   "outputs": [],
   "source": []
  },
  {
   "cell_type": "code",
   "execution_count": null,
   "id": "963be18a",
   "metadata": {},
   "outputs": [],
   "source": []
  },
  {
   "cell_type": "code",
   "execution_count": null,
   "id": "057e8004",
   "metadata": {},
   "outputs": [],
   "source": []
  },
  {
   "cell_type": "code",
   "execution_count": null,
   "id": "7ded3796",
   "metadata": {},
   "outputs": [],
   "source": []
  },
  {
   "cell_type": "code",
   "execution_count": 8,
   "id": "ef8fc5e5",
   "metadata": {},
   "outputs": [],
   "source": [
    "batch_size = 10\n",
    "test_ds = BengaliDataset(test, processor)"
   ]
  },
  {
   "cell_type": "code",
   "execution_count": 9,
   "id": "f6041150",
   "metadata": {},
   "outputs": [],
   "source": [
    "def custom_collate_fn(batch):\n",
    "    input_values = [item['input_values'] for item in batch]\n",
    "    labels = [item['labels'] for item in batch]\n",
    "\n",
    "    input_values_padded = pad_sequence(input_values, batch_first=True, padding_value=0.0)\n",
    "\n",
    "    labels = [torch.tensor(label) for label in labels]\n",
    "\n",
    "    return {'input_values': input_values_padded, 'labels': labels}\n"
   ]
  },
  {
   "cell_type": "code",
   "execution_count": 10,
   "id": "caa447af",
   "metadata": {},
   "outputs": [],
   "source": [
    "test_loader = DataLoader(\n",
    "    test_ds, batch_size=batch_size, shuffle=False, num_workers=2, collate_fn=custom_collate_fn\n",
    ")"
   ]
  },
  {
   "cell_type": "code",
   "execution_count": 11,
   "id": "4a211145",
   "metadata": {
    "scrolled": true
   },
   "outputs": [
    {
     "data": {
      "text/plain": [
       "Wav2Vec2ForCTC(\n",
       "  (wav2vec2): Wav2Vec2Model(\n",
       "    (feature_extractor): Wav2Vec2FeatureEncoder(\n",
       "      (conv_layers): ModuleList(\n",
       "        (0): Wav2Vec2LayerNormConvLayer(\n",
       "          (conv): Conv1d(1, 512, kernel_size=(10,), stride=(5,))\n",
       "          (layer_norm): LayerNorm((512,), eps=1e-05, elementwise_affine=True)\n",
       "          (activation): GELUActivation()\n",
       "        )\n",
       "        (1-4): 4 x Wav2Vec2LayerNormConvLayer(\n",
       "          (conv): Conv1d(512, 512, kernel_size=(3,), stride=(2,))\n",
       "          (layer_norm): LayerNorm((512,), eps=1e-05, elementwise_affine=True)\n",
       "          (activation): GELUActivation()\n",
       "        )\n",
       "        (5-6): 2 x Wav2Vec2LayerNormConvLayer(\n",
       "          (conv): Conv1d(512, 512, kernel_size=(2,), stride=(2,))\n",
       "          (layer_norm): LayerNorm((512,), eps=1e-05, elementwise_affine=True)\n",
       "          (activation): GELUActivation()\n",
       "        )\n",
       "      )\n",
       "    )\n",
       "    (feature_projection): Wav2Vec2FeatureProjection(\n",
       "      (layer_norm): LayerNorm((512,), eps=1e-05, elementwise_affine=True)\n",
       "      (projection): Linear(in_features=512, out_features=1024, bias=True)\n",
       "      (dropout): Dropout(p=0.1, inplace=False)\n",
       "    )\n",
       "    (encoder): Wav2Vec2EncoderStableLayerNorm(\n",
       "      (pos_conv_embed): Wav2Vec2PositionalConvEmbedding(\n",
       "        (conv): Conv1d(1024, 1024, kernel_size=(128,), stride=(1,), padding=(64,), groups=16)\n",
       "        (padding): Wav2Vec2SamePadLayer()\n",
       "        (activation): GELUActivation()\n",
       "      )\n",
       "      (layer_norm): LayerNorm((1024,), eps=1e-05, elementwise_affine=True)\n",
       "      (dropout): Dropout(p=0.1, inplace=False)\n",
       "      (layers): ModuleList(\n",
       "        (0-23): 24 x Wav2Vec2EncoderLayerStableLayerNorm(\n",
       "          (attention): Wav2Vec2Attention(\n",
       "            (k_proj): Linear(in_features=1024, out_features=1024, bias=True)\n",
       "            (v_proj): Linear(in_features=1024, out_features=1024, bias=True)\n",
       "            (q_proj): Linear(in_features=1024, out_features=1024, bias=True)\n",
       "            (out_proj): Linear(in_features=1024, out_features=1024, bias=True)\n",
       "          )\n",
       "          (dropout): Dropout(p=0.1, inplace=False)\n",
       "          (layer_norm): LayerNorm((1024,), eps=1e-05, elementwise_affine=True)\n",
       "          (feed_forward): Wav2Vec2FeedForward(\n",
       "            (intermediate_dropout): Dropout(p=0.0, inplace=False)\n",
       "            (intermediate_dense): Linear(in_features=1024, out_features=4096, bias=True)\n",
       "            (intermediate_act_fn): GELUActivation()\n",
       "            (output_dense): Linear(in_features=4096, out_features=1024, bias=True)\n",
       "            (output_dropout): Dropout(p=0.1, inplace=False)\n",
       "          )\n",
       "          (final_layer_norm): LayerNorm((1024,), eps=1e-05, elementwise_affine=True)\n",
       "        )\n",
       "      )\n",
       "    )\n",
       "  )\n",
       "  (dropout): Dropout(p=0.0, inplace=False)\n",
       "  (lm_head): Linear(in_features=1024, out_features=150, bias=True)\n",
       ")"
      ]
     },
     "execution_count": 11,
     "metadata": {},
     "output_type": "execute_result"
    }
   ],
   "source": [
    "model.to('cuda')\n",
    "model.half()"
   ]
  },
  {
   "cell_type": "code",
   "execution_count": null,
   "id": "0dca2115",
   "metadata": {
    "scrolled": true
   },
   "outputs": [],
   "source": [
    "next(iter(test_loader))"
   ]
  },
  {
   "cell_type": "code",
   "execution_count": 12,
   "id": "f7653985",
   "metadata": {
    "scrolled": true
   },
   "outputs": [
    {
     "name": "stderr",
     "output_type": "stream",
     "text": [
      "  0%|          | 0/96797 [00:00<?, ?it/s]/home/ubuntu/.local/lib/python3.10/site-packages/transformers/models/wav2vec2/processing_wav2vec2.py:155: UserWarning: `as_target_processor` is deprecated and will be removed in v5 of Transformers. You can process your labels by using the argument `text` of the regular `__call__` method (either in the same call as your audio inputs, or in a separate call.\n",
      "  warnings.warn(\n",
      "/home/ubuntu/.local/lib/python3.10/site-packages/transformers/models/wav2vec2/processing_wav2vec2.py:155: UserWarning: `as_target_processor` is deprecated and will be removed in v5 of Transformers. You can process your labels by using the argument `text` of the regular `__call__` method (either in the same call as your audio inputs, or in a separate call.\n",
      "  warnings.warn(\n",
      "  0%|          | 6/96797 [00:03<9:22:54,  2.87it/s] ERROR: Unexpected bus error encountered in worker. This might be caused by insufficient shared memory (shm).\n",
      "  0%|          | 7/96797 [00:04<8:27:45,  3.18it/s]ERROR: Unexpected bus error encountered in worker. This might be caused by insufficient shared memory (shm).\n",
      "  0%|          | 8/96797 [00:12<40:20:07,  1.50s/it]\n"
     ]
    },
    {
     "ename": "ConnectionResetError",
     "evalue": "[Errno 104] Connection reset by peer",
     "output_type": "error",
     "traceback": [
      "\u001b[0;31m---------------------------------------------------------------------------\u001b[0m",
      "\u001b[0;31mConnectionResetError\u001b[0m                      Traceback (most recent call last)",
      "Cell \u001b[0;32mIn[12], line 4\u001b[0m\n\u001b[1;32m      1\u001b[0m sentences \u001b[38;5;241m=\u001b[39m []\n\u001b[1;32m      3\u001b[0m \u001b[38;5;28;01mwith\u001b[39;00m torch\u001b[38;5;241m.\u001b[39mno_grad():\n\u001b[0;32m----> 4\u001b[0m     \u001b[38;5;28;01mfor\u001b[39;00m batch \u001b[38;5;129;01min\u001b[39;00m tqdm(test_loader):\n\u001b[1;32m      5\u001b[0m         x \u001b[38;5;241m=\u001b[39m batch[\u001b[38;5;124m\"\u001b[39m\u001b[38;5;124minput_values\u001b[39m\u001b[38;5;124m\"\u001b[39m]\n\u001b[1;32m      6\u001b[0m         x \u001b[38;5;241m=\u001b[39m x\u001b[38;5;241m.\u001b[39mto(\u001b[38;5;124m\"\u001b[39m\u001b[38;5;124mcuda\u001b[39m\u001b[38;5;124m\"\u001b[39m, non_blocking\u001b[38;5;241m=\u001b[39m\u001b[38;5;28;01mTrue\u001b[39;00m)\n",
      "File \u001b[0;32m~/.local/lib/python3.10/site-packages/tqdm/std.py:1182\u001b[0m, in \u001b[0;36mtqdm.__iter__\u001b[0;34m(self)\u001b[0m\n\u001b[1;32m   1179\u001b[0m time \u001b[38;5;241m=\u001b[39m \u001b[38;5;28mself\u001b[39m\u001b[38;5;241m.\u001b[39m_time\n\u001b[1;32m   1181\u001b[0m \u001b[38;5;28;01mtry\u001b[39;00m:\n\u001b[0;32m-> 1182\u001b[0m     \u001b[38;5;28;01mfor\u001b[39;00m obj \u001b[38;5;129;01min\u001b[39;00m iterable:\n\u001b[1;32m   1183\u001b[0m         \u001b[38;5;28;01myield\u001b[39;00m obj\n\u001b[1;32m   1184\u001b[0m         \u001b[38;5;66;03m# Update and possibly print the progressbar.\u001b[39;00m\n\u001b[1;32m   1185\u001b[0m         \u001b[38;5;66;03m# Note: does not call self.update(1) for speed optimisation.\u001b[39;00m\n",
      "File \u001b[0;32m~/.local/lib/python3.10/site-packages/torch/utils/data/dataloader.py:633\u001b[0m, in \u001b[0;36m_BaseDataLoaderIter.__next__\u001b[0;34m(self)\u001b[0m\n\u001b[1;32m    630\u001b[0m \u001b[38;5;28;01mif\u001b[39;00m \u001b[38;5;28mself\u001b[39m\u001b[38;5;241m.\u001b[39m_sampler_iter \u001b[38;5;129;01mis\u001b[39;00m \u001b[38;5;28;01mNone\u001b[39;00m:\n\u001b[1;32m    631\u001b[0m     \u001b[38;5;66;03m# TODO(https://github.com/pytorch/pytorch/issues/76750)\u001b[39;00m\n\u001b[1;32m    632\u001b[0m     \u001b[38;5;28mself\u001b[39m\u001b[38;5;241m.\u001b[39m_reset()  \u001b[38;5;66;03m# type: ignore[call-arg]\u001b[39;00m\n\u001b[0;32m--> 633\u001b[0m data \u001b[38;5;241m=\u001b[39m \u001b[38;5;28;43mself\u001b[39;49m\u001b[38;5;241;43m.\u001b[39;49m\u001b[43m_next_data\u001b[49m\u001b[43m(\u001b[49m\u001b[43m)\u001b[49m\n\u001b[1;32m    634\u001b[0m \u001b[38;5;28mself\u001b[39m\u001b[38;5;241m.\u001b[39m_num_yielded \u001b[38;5;241m+\u001b[39m\u001b[38;5;241m=\u001b[39m \u001b[38;5;241m1\u001b[39m\n\u001b[1;32m    635\u001b[0m \u001b[38;5;28;01mif\u001b[39;00m \u001b[38;5;28mself\u001b[39m\u001b[38;5;241m.\u001b[39m_dataset_kind \u001b[38;5;241m==\u001b[39m _DatasetKind\u001b[38;5;241m.\u001b[39mIterable \u001b[38;5;129;01mand\u001b[39;00m \\\n\u001b[1;32m    636\u001b[0m         \u001b[38;5;28mself\u001b[39m\u001b[38;5;241m.\u001b[39m_IterableDataset_len_called \u001b[38;5;129;01mis\u001b[39;00m \u001b[38;5;129;01mnot\u001b[39;00m \u001b[38;5;28;01mNone\u001b[39;00m \u001b[38;5;129;01mand\u001b[39;00m \\\n\u001b[1;32m    637\u001b[0m         \u001b[38;5;28mself\u001b[39m\u001b[38;5;241m.\u001b[39m_num_yielded \u001b[38;5;241m>\u001b[39m \u001b[38;5;28mself\u001b[39m\u001b[38;5;241m.\u001b[39m_IterableDataset_len_called:\n",
      "File \u001b[0;32m~/.local/lib/python3.10/site-packages/torch/utils/data/dataloader.py:1328\u001b[0m, in \u001b[0;36m_MultiProcessingDataLoaderIter._next_data\u001b[0;34m(self)\u001b[0m\n\u001b[1;32m   1325\u001b[0m     \u001b[38;5;28;01mreturn\u001b[39;00m \u001b[38;5;28mself\u001b[39m\u001b[38;5;241m.\u001b[39m_process_data(data)\n\u001b[1;32m   1327\u001b[0m \u001b[38;5;28;01massert\u001b[39;00m \u001b[38;5;129;01mnot\u001b[39;00m \u001b[38;5;28mself\u001b[39m\u001b[38;5;241m.\u001b[39m_shutdown \u001b[38;5;129;01mand\u001b[39;00m \u001b[38;5;28mself\u001b[39m\u001b[38;5;241m.\u001b[39m_tasks_outstanding \u001b[38;5;241m>\u001b[39m \u001b[38;5;241m0\u001b[39m\n\u001b[0;32m-> 1328\u001b[0m idx, data \u001b[38;5;241m=\u001b[39m \u001b[38;5;28;43mself\u001b[39;49m\u001b[38;5;241;43m.\u001b[39;49m\u001b[43m_get_data\u001b[49m\u001b[43m(\u001b[49m\u001b[43m)\u001b[49m\n\u001b[1;32m   1329\u001b[0m \u001b[38;5;28mself\u001b[39m\u001b[38;5;241m.\u001b[39m_tasks_outstanding \u001b[38;5;241m-\u001b[39m\u001b[38;5;241m=\u001b[39m \u001b[38;5;241m1\u001b[39m\n\u001b[1;32m   1330\u001b[0m \u001b[38;5;28;01mif\u001b[39;00m \u001b[38;5;28mself\u001b[39m\u001b[38;5;241m.\u001b[39m_dataset_kind \u001b[38;5;241m==\u001b[39m _DatasetKind\u001b[38;5;241m.\u001b[39mIterable:\n\u001b[1;32m   1331\u001b[0m     \u001b[38;5;66;03m# Check for _IterableDatasetStopIteration\u001b[39;00m\n",
      "File \u001b[0;32m~/.local/lib/python3.10/site-packages/torch/utils/data/dataloader.py:1294\u001b[0m, in \u001b[0;36m_MultiProcessingDataLoaderIter._get_data\u001b[0;34m(self)\u001b[0m\n\u001b[1;32m   1290\u001b[0m     \u001b[38;5;66;03m# In this case, `self._data_queue` is a `queue.Queue`,. But we don't\u001b[39;00m\n\u001b[1;32m   1291\u001b[0m     \u001b[38;5;66;03m# need to call `.task_done()` because we don't use `.join()`.\u001b[39;00m\n\u001b[1;32m   1292\u001b[0m \u001b[38;5;28;01melse\u001b[39;00m:\n\u001b[1;32m   1293\u001b[0m     \u001b[38;5;28;01mwhile\u001b[39;00m \u001b[38;5;28;01mTrue\u001b[39;00m:\n\u001b[0;32m-> 1294\u001b[0m         success, data \u001b[38;5;241m=\u001b[39m \u001b[38;5;28;43mself\u001b[39;49m\u001b[38;5;241;43m.\u001b[39;49m\u001b[43m_try_get_data\u001b[49m\u001b[43m(\u001b[49m\u001b[43m)\u001b[49m\n\u001b[1;32m   1295\u001b[0m         \u001b[38;5;28;01mif\u001b[39;00m success:\n\u001b[1;32m   1296\u001b[0m             \u001b[38;5;28;01mreturn\u001b[39;00m data\n",
      "File \u001b[0;32m~/.local/lib/python3.10/site-packages/torch/utils/data/dataloader.py:1132\u001b[0m, in \u001b[0;36m_MultiProcessingDataLoaderIter._try_get_data\u001b[0;34m(self, timeout)\u001b[0m\n\u001b[1;32m   1119\u001b[0m \u001b[38;5;28;01mdef\u001b[39;00m \u001b[38;5;21m_try_get_data\u001b[39m(\u001b[38;5;28mself\u001b[39m, timeout\u001b[38;5;241m=\u001b[39m_utils\u001b[38;5;241m.\u001b[39mMP_STATUS_CHECK_INTERVAL):\n\u001b[1;32m   1120\u001b[0m     \u001b[38;5;66;03m# Tries to fetch data from `self._data_queue` once for a given timeout.\u001b[39;00m\n\u001b[1;32m   1121\u001b[0m     \u001b[38;5;66;03m# This can also be used as inner loop of fetching without timeout, with\u001b[39;00m\n\u001b[0;32m   (...)\u001b[0m\n\u001b[1;32m   1129\u001b[0m     \u001b[38;5;66;03m# Returns a 2-tuple:\u001b[39;00m\n\u001b[1;32m   1130\u001b[0m     \u001b[38;5;66;03m#   (bool: whether successfully get data, any: data if successful else None)\u001b[39;00m\n\u001b[1;32m   1131\u001b[0m     \u001b[38;5;28;01mtry\u001b[39;00m:\n\u001b[0;32m-> 1132\u001b[0m         data \u001b[38;5;241m=\u001b[39m \u001b[38;5;28;43mself\u001b[39;49m\u001b[38;5;241;43m.\u001b[39;49m\u001b[43m_data_queue\u001b[49m\u001b[38;5;241;43m.\u001b[39;49m\u001b[43mget\u001b[49m\u001b[43m(\u001b[49m\u001b[43mtimeout\u001b[49m\u001b[38;5;241;43m=\u001b[39;49m\u001b[43mtimeout\u001b[49m\u001b[43m)\u001b[49m\n\u001b[1;32m   1133\u001b[0m         \u001b[38;5;28;01mreturn\u001b[39;00m (\u001b[38;5;28;01mTrue\u001b[39;00m, data)\n\u001b[1;32m   1134\u001b[0m     \u001b[38;5;28;01mexcept\u001b[39;00m \u001b[38;5;167;01mException\u001b[39;00m \u001b[38;5;28;01mas\u001b[39;00m e:\n\u001b[1;32m   1135\u001b[0m         \u001b[38;5;66;03m# At timeout and error, we manually check whether any worker has\u001b[39;00m\n\u001b[1;32m   1136\u001b[0m         \u001b[38;5;66;03m# failed. Note that this is the only mechanism for Windows to detect\u001b[39;00m\n\u001b[1;32m   1137\u001b[0m         \u001b[38;5;66;03m# worker failures.\u001b[39;00m\n",
      "File \u001b[0;32m/usr/lib/python3.10/multiprocessing/queues.py:122\u001b[0m, in \u001b[0;36mQueue.get\u001b[0;34m(self, block, timeout)\u001b[0m\n\u001b[1;32m    120\u001b[0m         \u001b[38;5;28mself\u001b[39m\u001b[38;5;241m.\u001b[39m_rlock\u001b[38;5;241m.\u001b[39mrelease()\n\u001b[1;32m    121\u001b[0m \u001b[38;5;66;03m# unserialize the data after having released the lock\u001b[39;00m\n\u001b[0;32m--> 122\u001b[0m \u001b[38;5;28;01mreturn\u001b[39;00m \u001b[43m_ForkingPickler\u001b[49m\u001b[38;5;241;43m.\u001b[39;49m\u001b[43mloads\u001b[49m\u001b[43m(\u001b[49m\u001b[43mres\u001b[49m\u001b[43m)\u001b[49m\n",
      "File \u001b[0;32m~/.local/lib/python3.10/site-packages/torch/multiprocessing/reductions.py:307\u001b[0m, in \u001b[0;36mrebuild_storage_fd\u001b[0;34m(cls, df, size)\u001b[0m\n\u001b[1;32m    306\u001b[0m \u001b[38;5;28;01mdef\u001b[39;00m \u001b[38;5;21mrebuild_storage_fd\u001b[39m(\u001b[38;5;28mcls\u001b[39m, df, size):\n\u001b[0;32m--> 307\u001b[0m     fd \u001b[38;5;241m=\u001b[39m \u001b[43mdf\u001b[49m\u001b[38;5;241;43m.\u001b[39;49m\u001b[43mdetach\u001b[49m\u001b[43m(\u001b[49m\u001b[43m)\u001b[49m\n\u001b[1;32m    308\u001b[0m     \u001b[38;5;28;01mtry\u001b[39;00m:\n\u001b[1;32m    309\u001b[0m         storage \u001b[38;5;241m=\u001b[39m storage_from_cache(\u001b[38;5;28mcls\u001b[39m, fd_id(fd))\n",
      "File \u001b[0;32m/usr/lib/python3.10/multiprocessing/resource_sharer.py:57\u001b[0m, in \u001b[0;36mDupFd.detach\u001b[0;34m(self)\u001b[0m\n\u001b[1;32m     55\u001b[0m \u001b[38;5;28;01mdef\u001b[39;00m \u001b[38;5;21mdetach\u001b[39m(\u001b[38;5;28mself\u001b[39m):\n\u001b[1;32m     56\u001b[0m \u001b[38;5;250m    \u001b[39m\u001b[38;5;124;03m'''Get the fd.  This should only be called once.'''\u001b[39;00m\n\u001b[0;32m---> 57\u001b[0m     \u001b[38;5;28;01mwith\u001b[39;00m \u001b[43m_resource_sharer\u001b[49m\u001b[38;5;241;43m.\u001b[39;49m\u001b[43mget_connection\u001b[49m\u001b[43m(\u001b[49m\u001b[38;5;28;43mself\u001b[39;49m\u001b[38;5;241;43m.\u001b[39;49m\u001b[43m_id\u001b[49m\u001b[43m)\u001b[49m \u001b[38;5;28;01mas\u001b[39;00m conn:\n\u001b[1;32m     58\u001b[0m         \u001b[38;5;28;01mreturn\u001b[39;00m reduction\u001b[38;5;241m.\u001b[39mrecv_handle(conn)\n",
      "File \u001b[0;32m/usr/lib/python3.10/multiprocessing/resource_sharer.py:86\u001b[0m, in \u001b[0;36m_ResourceSharer.get_connection\u001b[0;34m(ident)\u001b[0m\n\u001b[1;32m     84\u001b[0m \u001b[38;5;28;01mfrom\u001b[39;00m \u001b[38;5;21;01m.\u001b[39;00m\u001b[38;5;21;01mconnection\u001b[39;00m \u001b[38;5;28;01mimport\u001b[39;00m Client\n\u001b[1;32m     85\u001b[0m address, key \u001b[38;5;241m=\u001b[39m ident\n\u001b[0;32m---> 86\u001b[0m c \u001b[38;5;241m=\u001b[39m \u001b[43mClient\u001b[49m\u001b[43m(\u001b[49m\u001b[43maddress\u001b[49m\u001b[43m,\u001b[49m\u001b[43m \u001b[49m\u001b[43mauthkey\u001b[49m\u001b[38;5;241;43m=\u001b[39;49m\u001b[43mprocess\u001b[49m\u001b[38;5;241;43m.\u001b[39;49m\u001b[43mcurrent_process\u001b[49m\u001b[43m(\u001b[49m\u001b[43m)\u001b[49m\u001b[38;5;241;43m.\u001b[39;49m\u001b[43mauthkey\u001b[49m\u001b[43m)\u001b[49m\n\u001b[1;32m     87\u001b[0m c\u001b[38;5;241m.\u001b[39msend((key, os\u001b[38;5;241m.\u001b[39mgetpid()))\n\u001b[1;32m     88\u001b[0m \u001b[38;5;28;01mreturn\u001b[39;00m c\n",
      "File \u001b[0;32m/usr/lib/python3.10/multiprocessing/connection.py:508\u001b[0m, in \u001b[0;36mClient\u001b[0;34m(address, family, authkey)\u001b[0m\n\u001b[1;32m    505\u001b[0m     \u001b[38;5;28;01mraise\u001b[39;00m \u001b[38;5;167;01mTypeError\u001b[39;00m(\u001b[38;5;124m'\u001b[39m\u001b[38;5;124mauthkey should be a byte string\u001b[39m\u001b[38;5;124m'\u001b[39m)\n\u001b[1;32m    507\u001b[0m \u001b[38;5;28;01mif\u001b[39;00m authkey \u001b[38;5;129;01mis\u001b[39;00m \u001b[38;5;129;01mnot\u001b[39;00m \u001b[38;5;28;01mNone\u001b[39;00m:\n\u001b[0;32m--> 508\u001b[0m     \u001b[43manswer_challenge\u001b[49m\u001b[43m(\u001b[49m\u001b[43mc\u001b[49m\u001b[43m,\u001b[49m\u001b[43m \u001b[49m\u001b[43mauthkey\u001b[49m\u001b[43m)\u001b[49m\n\u001b[1;32m    509\u001b[0m     deliver_challenge(c, authkey)\n\u001b[1;32m    511\u001b[0m \u001b[38;5;28;01mreturn\u001b[39;00m c\n",
      "File \u001b[0;32m/usr/lib/python3.10/multiprocessing/connection.py:752\u001b[0m, in \u001b[0;36manswer_challenge\u001b[0;34m(connection, authkey)\u001b[0m\n\u001b[1;32m    749\u001b[0m \u001b[38;5;28;01mif\u001b[39;00m \u001b[38;5;129;01mnot\u001b[39;00m \u001b[38;5;28misinstance\u001b[39m(authkey, \u001b[38;5;28mbytes\u001b[39m):\n\u001b[1;32m    750\u001b[0m     \u001b[38;5;28;01mraise\u001b[39;00m \u001b[38;5;167;01mValueError\u001b[39;00m(\n\u001b[1;32m    751\u001b[0m         \u001b[38;5;124m\"\u001b[39m\u001b[38;5;124mAuthkey must be bytes, not \u001b[39m\u001b[38;5;132;01m{0!s}\u001b[39;00m\u001b[38;5;124m\"\u001b[39m\u001b[38;5;241m.\u001b[39mformat(\u001b[38;5;28mtype\u001b[39m(authkey)))\n\u001b[0;32m--> 752\u001b[0m message \u001b[38;5;241m=\u001b[39m \u001b[43mconnection\u001b[49m\u001b[38;5;241;43m.\u001b[39;49m\u001b[43mrecv_bytes\u001b[49m\u001b[43m(\u001b[49m\u001b[38;5;241;43m256\u001b[39;49m\u001b[43m)\u001b[49m         \u001b[38;5;66;03m# reject large message\u001b[39;00m\n\u001b[1;32m    753\u001b[0m \u001b[38;5;28;01massert\u001b[39;00m message[:\u001b[38;5;28mlen\u001b[39m(CHALLENGE)] \u001b[38;5;241m==\u001b[39m CHALLENGE, \u001b[38;5;124m'\u001b[39m\u001b[38;5;124mmessage = \u001b[39m\u001b[38;5;132;01m%r\u001b[39;00m\u001b[38;5;124m'\u001b[39m \u001b[38;5;241m%\u001b[39m message\n\u001b[1;32m    754\u001b[0m message \u001b[38;5;241m=\u001b[39m message[\u001b[38;5;28mlen\u001b[39m(CHALLENGE):]\n",
      "File \u001b[0;32m/usr/lib/python3.10/multiprocessing/connection.py:216\u001b[0m, in \u001b[0;36m_ConnectionBase.recv_bytes\u001b[0;34m(self, maxlength)\u001b[0m\n\u001b[1;32m    214\u001b[0m \u001b[38;5;28;01mif\u001b[39;00m maxlength \u001b[38;5;129;01mis\u001b[39;00m \u001b[38;5;129;01mnot\u001b[39;00m \u001b[38;5;28;01mNone\u001b[39;00m \u001b[38;5;129;01mand\u001b[39;00m maxlength \u001b[38;5;241m<\u001b[39m \u001b[38;5;241m0\u001b[39m:\n\u001b[1;32m    215\u001b[0m     \u001b[38;5;28;01mraise\u001b[39;00m \u001b[38;5;167;01mValueError\u001b[39;00m(\u001b[38;5;124m\"\u001b[39m\u001b[38;5;124mnegative maxlength\u001b[39m\u001b[38;5;124m\"\u001b[39m)\n\u001b[0;32m--> 216\u001b[0m buf \u001b[38;5;241m=\u001b[39m \u001b[38;5;28;43mself\u001b[39;49m\u001b[38;5;241;43m.\u001b[39;49m\u001b[43m_recv_bytes\u001b[49m\u001b[43m(\u001b[49m\u001b[43mmaxlength\u001b[49m\u001b[43m)\u001b[49m\n\u001b[1;32m    217\u001b[0m \u001b[38;5;28;01mif\u001b[39;00m buf \u001b[38;5;129;01mis\u001b[39;00m \u001b[38;5;28;01mNone\u001b[39;00m:\n\u001b[1;32m    218\u001b[0m     \u001b[38;5;28mself\u001b[39m\u001b[38;5;241m.\u001b[39m_bad_message_length()\n",
      "File \u001b[0;32m/usr/lib/python3.10/multiprocessing/connection.py:414\u001b[0m, in \u001b[0;36mConnection._recv_bytes\u001b[0;34m(self, maxsize)\u001b[0m\n\u001b[1;32m    413\u001b[0m \u001b[38;5;28;01mdef\u001b[39;00m \u001b[38;5;21m_recv_bytes\u001b[39m(\u001b[38;5;28mself\u001b[39m, maxsize\u001b[38;5;241m=\u001b[39m\u001b[38;5;28;01mNone\u001b[39;00m):\n\u001b[0;32m--> 414\u001b[0m     buf \u001b[38;5;241m=\u001b[39m \u001b[38;5;28;43mself\u001b[39;49m\u001b[38;5;241;43m.\u001b[39;49m\u001b[43m_recv\u001b[49m\u001b[43m(\u001b[49m\u001b[38;5;241;43m4\u001b[39;49m\u001b[43m)\u001b[49m\n\u001b[1;32m    415\u001b[0m     size, \u001b[38;5;241m=\u001b[39m struct\u001b[38;5;241m.\u001b[39munpack(\u001b[38;5;124m\"\u001b[39m\u001b[38;5;124m!i\u001b[39m\u001b[38;5;124m\"\u001b[39m, buf\u001b[38;5;241m.\u001b[39mgetvalue())\n\u001b[1;32m    416\u001b[0m     \u001b[38;5;28;01mif\u001b[39;00m size \u001b[38;5;241m==\u001b[39m \u001b[38;5;241m-\u001b[39m\u001b[38;5;241m1\u001b[39m:\n",
      "File \u001b[0;32m/usr/lib/python3.10/multiprocessing/connection.py:379\u001b[0m, in \u001b[0;36mConnection._recv\u001b[0;34m(self, size, read)\u001b[0m\n\u001b[1;32m    377\u001b[0m remaining \u001b[38;5;241m=\u001b[39m size\n\u001b[1;32m    378\u001b[0m \u001b[38;5;28;01mwhile\u001b[39;00m remaining \u001b[38;5;241m>\u001b[39m \u001b[38;5;241m0\u001b[39m:\n\u001b[0;32m--> 379\u001b[0m     chunk \u001b[38;5;241m=\u001b[39m \u001b[43mread\u001b[49m\u001b[43m(\u001b[49m\u001b[43mhandle\u001b[49m\u001b[43m,\u001b[49m\u001b[43m \u001b[49m\u001b[43mremaining\u001b[49m\u001b[43m)\u001b[49m\n\u001b[1;32m    380\u001b[0m     n \u001b[38;5;241m=\u001b[39m \u001b[38;5;28mlen\u001b[39m(chunk)\n\u001b[1;32m    381\u001b[0m     \u001b[38;5;28;01mif\u001b[39;00m n \u001b[38;5;241m==\u001b[39m \u001b[38;5;241m0\u001b[39m:\n",
      "\u001b[0;31mConnectionResetError\u001b[0m: [Errno 104] Connection reset by peer"
     ]
    }
   ],
   "source": [
    "sentences = []\n",
    "\n",
    "with torch.no_grad():\n",
    "    for batch in tqdm(test_loader):\n",
    "        x = batch[\"input_values\"]\n",
    "        x = x.to(\"cuda\", non_blocking=True)\n",
    "        with torch.cuda.amp.autocast(True):\n",
    "            y = model(x).logits\n",
    "        predicted_ids = torch.argmax(y, dim=-1)\n",
    "        \n",
    "        batch_size = predicted_ids.shape[0]\n",
    "\n",
    "        for i in range(batch_size):\n",
    "            transcription = processor.decode(predicted_ids[i])\n",
    "            sentences.append(transcription)"
   ]
  },
  {
   "cell_type": "code",
   "execution_count": 13,
   "id": "7c256161",
   "metadata": {},
   "outputs": [
    {
     "data": {
      "text/plain": [
       "'একই মাইলের কম থেকে শুরু করে বেশি দুরুত যা কিনা একদিনের পারি দেওয়া যায় তথটুক পর্যন্ত দবৈনিক পদবরজনের ভ্ূমণের অন্তর্ভুক্ত।'"
      ]
     },
     "execution_count": 13,
     "metadata": {},
     "output_type": "execute_result"
    }
   ],
   "source": [
    "sentences[0]"
   ]
  },
  {
   "cell_type": "code",
   "execution_count": 15,
   "id": "f21be65f",
   "metadata": {},
   "outputs": [
    {
     "data": {
      "text/plain": [
       "'এক মাইলের কম থেকে শুরু করে বেশি দূরত্ব যা কিনা একদিনে পাড়ি দেয়া যায় ততটুকু পর্যন্ত দৈনিক পদব্রজে ভ্রমণের অন্তর্ভুক্ত।'"
      ]
     },
     "execution_count": 15,
     "metadata": {},
     "output_type": "execute_result"
    },
    {
     "name": "stderr",
     "output_type": "stream",
     "text": [
      "Traceback (most recent call last):\n",
      "  File \"/usr/lib/python3.10/runpy.py\", line 196, in _run_module_as_main\n",
      "    return _run_code(code, main_globals, None,\n",
      "  File \"/usr/lib/python3.10/runpy.py\", line 86, in _run_code\n",
      "    exec(code, run_globals)\n",
      "  File \"/usr/local/lib/python3.10/dist-packages/ipykernel_launcher.py\", line 17, in <module>\n",
      "    app.launch_new_instance()\n",
      "  File \"/usr/local/lib/python3.10/dist-packages/traitlets/config/application.py\", line 1043, in launch_instance\n",
      "    app.start()\n",
      "  File \"/usr/local/lib/python3.10/dist-packages/ipykernel/kernelapp.py\", line 736, in start\n",
      "    self.io_loop.start()\n",
      "  File \"/usr/local/lib/python3.10/dist-packages/tornado/platform/asyncio.py\", line 195, in start\n",
      "    self.asyncio_loop.run_forever()\n",
      "  File \"/usr/lib/python3.10/asyncio/base_events.py\", line 603, in run_forever\n",
      "    self._run_once()\n",
      "  File \"/usr/lib/python3.10/asyncio/base_events.py\", line 1871, in _run_once\n",
      "    event_list = self._selector.select(timeout)\n",
      "  File \"/usr/lib/python3.10/selectors.py\", line 469, in select\n",
      "    fd_event_list = self._selector.poll(timeout, max_ev)\n",
      "  File \"/home/ubuntu/.local/lib/python3.10/site-packages/torch/utils/data/_utils/signal_handling.py\", line 66, in handler\n",
      "    _error_if_any_worker_fails()\n",
      "RuntimeError: DataLoader worker (pid 1362912) is killed by signal: Bus error. It is possible that dataloader's workers are out of shared memory. Please try to raise your shared memory limit.\n"
     ]
    }
   ],
   "source": [
    "test.iloc[0,0]"
   ]
  },
  {
   "cell_type": "code",
   "execution_count": 21,
   "id": "12e68684",
   "metadata": {},
   "outputs": [],
   "source": [
    "text_0 = sentences[0]\n",
    "text_1 = test.iloc[0,1]"
   ]
  },
  {
   "cell_type": "code",
   "execution_count": 18,
   "id": "200c7a83",
   "metadata": {
    "scrolled": true
   },
   "outputs": [
    {
     "data": {
      "text/plain": [
       "'তিনি এবং তার মা তাদের পৈত্ৃক বাড়িতে থেকে প্রতিবেশিদের দার়া অনেক তিরষ্কার সজ্য করেন।'"
      ]
     },
     "execution_count": 18,
     "metadata": {},
     "output_type": "execute_result"
    }
   ],
   "source": [
    "sentences[0]"
   ]
  },
  {
   "cell_type": "code",
   "execution_count": 12,
   "id": "e0b96897",
   "metadata": {},
   "outputs": [
    {
     "name": "stdout",
     "output_type": "stream",
     "text": [
      "0.3892198511286563\n"
     ]
    }
   ],
   "source": [
    "import jiwer\n",
    "\n",
    "jiwerresult_0 = []\n",
    "\n",
    "for x in range(len(sentences)):\n",
    "\n",
    "    jiwer_ = jiwer.wer(sentences[x],test.iloc[x,1])\n",
    "\n",
    "    jiwerresult_0.append(jiwer_)\n",
    "    \n",
    "    \n",
    "avg_wer_0 = sum(jiwerresult_0)/len(sentences)\n",
    "print(avg_wer_0)"
   ]
  },
  {
   "cell_type": "code",
   "execution_count": 38,
   "id": "32f6b070",
   "metadata": {},
   "outputs": [],
   "source": [
    "from bnunicodenormalizer import Normalizer\n",
    "\n",
    "bnorm = Normalizer()\n",
    "\n",
    "def postprocess(sentence):\n",
    "    period_set = set([\".\", \"?\", \"!\", \"।\"])\n",
    "    _words = [bnorm(word)['normalized']  for word in sentence.split()]\n",
    "    sentence = \" \".join([word for word in _words if word is not None])\n",
    "    try:\n",
    "        if sentence[-1] not in period_set:\n",
    "            sentence+=\"।\"\n",
    "    except:\n",
    "        # print(sentence)\n",
    "        sentence = \"।\"\n",
    "    return sentence"
   ]
  },
  {
   "cell_type": "code",
   "execution_count": 39,
   "id": "7bc03dc2",
   "metadata": {},
   "outputs": [],
   "source": [
    "cleaned_sentences = []\n",
    "\n",
    "for sentence in sentences:\n",
    "    data = postprocess(sentence)\n",
    "    cleaned_sentences.append(data)"
   ]
  },
  {
   "cell_type": "code",
   "execution_count": 40,
   "id": "fde8330a",
   "metadata": {},
   "outputs": [
    {
     "name": "stdout",
     "output_type": "stream",
     "text": [
      "0.3337583934118714\n"
     ]
    }
   ],
   "source": [
    "jiwerresult_1 = []\n",
    "\n",
    "for x in range(len(cleaned_sentences)):\n",
    "\n",
    "    jiwer_ = jiwer.wer(cleaned_sentences[x],test.iloc[x,1])\n",
    "\n",
    "    jiwerresult_1.append(jiwer_)\n",
    "    \n",
    "    \n",
    "avg_wer_1 = sum(jiwerresult_1)/len(cleaned_sentences)\n",
    "print(avg_wer_1)"
   ]
  },
  {
   "cell_type": "code",
   "execution_count": 42,
   "id": "405ed74e",
   "metadata": {},
   "outputs": [],
   "source": [
    "unk_sentences = []\n",
    "\n",
    "for sentence in sentences:\n",
    "    data = sentence.replace(\"<unk>\",\"\")\n",
    "    unk_sentences.append(data)"
   ]
  },
  {
   "cell_type": "code",
   "execution_count": 44,
   "id": "e12d663a",
   "metadata": {},
   "outputs": [
    {
     "name": "stdout",
     "output_type": "stream",
     "text": [
      "0.26886597708432697\n"
     ]
    }
   ],
   "source": [
    "jiwerresult_2 = []\n",
    "\n",
    "for x in range(len(unk_sentences)):\n",
    "\n",
    "    jiwer_ = jiwer.wer(unk_sentences[x],test.iloc[x,1])\n",
    "\n",
    "    jiwerresult_2.append(jiwer_)\n",
    "    \n",
    "    \n",
    "avg_wer_2 = sum(jiwerresult_2)/len(unk_sentences)\n",
    "print(avg_wer_2)"
   ]
  },
  {
   "cell_type": "code",
   "execution_count": 45,
   "id": "e786761a",
   "metadata": {},
   "outputs": [],
   "source": [
    "num = 0.26888149151446894"
   ]
  },
  {
   "cell_type": "code",
   "execution_count": 46,
   "id": "245423c7",
   "metadata": {},
   "outputs": [],
   "source": [
    "num_1 = 0.26886597708432697"
   ]
  },
  {
   "cell_type": "code",
   "execution_count": 48,
   "id": "98b371cd",
   "metadata": {},
   "outputs": [
    {
     "name": "stdout",
     "output_type": "stream",
     "text": [
      "num > num1\n"
     ]
    }
   ],
   "source": [
    "if num > num_1:\n",
    "    print(\"num > num1\")\n",
    "else:\n",
    "    print(\"num < num1\")"
   ]
  },
  {
   "cell_type": "code",
   "execution_count": 24,
   "id": "26a41d90",
   "metadata": {
    "scrolled": true
   },
   "outputs": [
    {
     "data": {
      "text/plain": [
       "('তিনি এবং তার মা তাদের পৈতৃক বাড়িতে থেকে প্রতিবেশীদের দ্বারা অনেক তিরস্কার সহ্য করেন।',\n",
       " 'তিনি এবং তাঁর মা তাদের পৈতৃক বাড়িতে থেকে প্রতিবেশীদের দ্বারা অনেক তিরস্কার সহ্য করেন।')"
      ]
     },
     "execution_count": 24,
     "metadata": {},
     "output_type": "execute_result"
    }
   ],
   "source": [
    "sentences[0], test[\"sentence\"][0]"
   ]
  },
  {
   "cell_type": "code",
   "execution_count": 27,
   "id": "43702066",
   "metadata": {
    "scrolled": true
   },
   "outputs": [
    {
     "name": "stdout",
     "output_type": "stream",
     "text": [
      "Predicted: তিনি এবং তার মা তাদের পৈতৃক বাড়িতে থেকে প্রতিবেশীদের দ্বারা অনেক তিরস্কার সহ্য করেন।\n",
      "Test Set: তিনি এবং তাঁর মা তাদের পৈতৃক বাড়িতে থেকে প্রতিবেশীদের দ্বারা অনেক তিরস্কার সহ্য করেন।\n",
      "================================\n",
      "Predicted: কৃত্তিবাস রামায়ন বহির্ভূত অনেক গল্প এই অনুবাদে গ্রহণ করেছিলেন।\n",
      "Test Set: কৃত্তিবাস রামায়ণ-বহির্ভূত অনেক গল্প এই অনুবাদে গ্রহণ করেছিলেন।\n",
      "================================\n",
      "Predicted: তিনি তার সুশৃং্হল সামরিক বাহিনী এবং সুগঠিত শাসন কাঠামোর মাধ্যমে একটি দক্ষ শাসন ব্যবস্থা প্রতিষ্ঠিত করেন।\n",
      "Test Set: তিনি তার সুশৃঙ্খল সামরিক বাহিনী এবং সুগঠিত শাসন কাঠামোর মাধ্যমে একটি দক্ষ শাসন ব্যবস্থা প্রতিষ্ঠিত করেন।\n",
      "================================\n",
      "Predicted: তিনি বিজয়নগজ সাম্রাজ্যের বিরুদ্ধে এবং বিজাপুরের মুসলিম প্রতিবেশীদের বিরুদ্ধেও যুদ্ধ করেছিলেন।\n",
      "Test Set: তিনি বিজয়নগর সাম্রাজ্যের বিরুদ্ধে এবং বিজাপুরের মুসলিম প্রতিবেশীদের বিরুদ্ধেও যুদ্ধ করেছিলেন।\n",
      "================================\n",
      "Predicted: এটি মূলত একটি মরুময় অঞ্চব।\n",
      "Test Set: এটি মূলত একটি মরুময় অঞ্চল।\n",
      "================================\n",
      "Predicted: সড়কটি বিহার পশ্চিমবঙ্গ সীমান্ত অতিক্রম গর়ে পশ্চিমবঙ্গ রাজ্যে প্রবেশ করে উত্তর দিনাজ্পুর জেলা হয়ে।\n",
      "Test Set: সড়কটি বিহার-পশ্চিমবঙ্গ সীমান্ত অতিক্রম করে পশ্চিমবঙ্গ রাজ্যে প্রবেশ করে উত্তর দিনাজপুর জেলা হয়ে।\n",
      "================================\n",
      "Predicted: মাঝেমধ্যে অন্যান্য দেশের দলও এতে অংশ নেই।\n",
      "Test Set: মাঝে-মধ্যে অন্যান্য দেশের দলও এতে অংশ নেয়।\n",
      "================================\n",
      "Predicted: বলকে অবমুক্ত করে পুনরায় শারীরিক ভারসাম্য ফিরিয়ে নিয়ে আনতে হবে।\n",
      "Test Set: বলকে অবমুক্ত করে পুনরায় শারীরিক ভারসাম্য ফিরিয়ে নিয়ে আনতে হবে।\n",
      "================================\n",
      "Predicted: সাংস্কৃতিক উন্নয়নে অত্র প্রতিষ্ঠানটি অত্যন্ত সুপরিচিত।\n",
      "Test Set: সাংস্কৃতিক উন্নয়নে অত্র প্রতিষ্ঠানটি অত্যন্ত সুপরিচিত।\n",
      "================================\n",
      "Predicted: যথারিচি সেখানে ও সফল্যের স্বাক্ষর রাখলেন সিদ্দি।\n",
      "Test Set: যথারীতি সেখানেও সাফল্যের স্বাক্ষর রাখলেন সিদ্দিক।\n",
      "================================\n"
     ]
    }
   ],
   "source": [
    "for x in range(10):\n",
    "    print(f\"Predicted: {sentences[x]}\")\n",
    "    print(f\"Test Set: {test['sentence'][x]}\")\n",
    "    print(\"================================\")"
   ]
  },
  {
   "cell_type": "code",
   "execution_count": 15,
   "id": "fbeef135",
   "metadata": {},
   "outputs": [],
   "source": [
    "index = 0 \n",
    "for sentence in sentences:\n",
    "    if \"unk\" in sentence:\n",
    "#         print(sentence)\n",
    "#         print(index)\n",
    "#         break\n",
    "        index += 1"
   ]
  },
  {
   "cell_type": "code",
   "execution_count": 16,
   "id": "538c6a74",
   "metadata": {},
   "outputs": [
    {
     "data": {
      "text/plain": [
       "0"
      ]
     },
     "execution_count": 16,
     "metadata": {},
     "output_type": "execute_result"
    }
   ],
   "source": [
    "index"
   ]
  },
  {
   "cell_type": "code",
   "execution_count": 29,
   "id": "5d4a7615",
   "metadata": {},
   "outputs": [
    {
     "data": {
      "text/plain": [
       "'এমনকি নামাযের সময়ও সঙ্গে রাখতেন।'"
      ]
     },
     "execution_count": 29,
     "metadata": {},
     "output_type": "execute_result"
    }
   ],
   "source": [
    "test['sentence'][18]"
   ]
  },
  {
   "cell_type": "code",
   "execution_count": null,
   "id": "0d7222ee",
   "metadata": {},
   "outputs": [],
   "source": [
    "test"
   ]
  },
  {
   "cell_type": "code",
   "execution_count": 17,
   "id": "a12dfda4",
   "metadata": {},
   "outputs": [
    {
     "data": {
      "text/plain": [
       "29588"
      ]
     },
     "execution_count": 17,
     "metadata": {},
     "output_type": "execute_result"
    }
   ],
   "source": [
    "len(sentences)"
   ]
  },
  {
   "cell_type": "code",
   "execution_count": 20,
   "id": "0419bffa",
   "metadata": {},
   "outputs": [
    {
     "data": {
      "text/plain": [
       "59286"
      ]
     },
     "execution_count": 20,
     "metadata": {},
     "output_type": "execute_result"
    }
   ],
   "source": [
    "len(sentences)"
   ]
  },
  {
   "cell_type": "code",
   "execution_count": 21,
   "id": "14b1de63",
   "metadata": {},
   "outputs": [
    {
     "data": {
      "text/plain": [
       "8"
      ]
     },
     "execution_count": 21,
     "metadata": {},
     "output_type": "execute_result"
    }
   ],
   "source": [
    "batch_size"
   ]
  },
  {
   "cell_type": "code",
   "execution_count": 22,
   "id": "5b5e0568",
   "metadata": {},
   "outputs": [
    {
     "data": {
      "text/plain": [
       "29697"
      ]
     },
     "execution_count": 22,
     "metadata": {},
     "output_type": "execute_result"
    }
   ],
   "source": [
    "len(sentences[29589:])"
   ]
  },
  {
   "cell_type": "code",
   "execution_count": 18,
   "id": "955094a1",
   "metadata": {},
   "outputs": [
    {
     "data": {
      "text/plain": [
       "29588"
      ]
     },
     "execution_count": 18,
     "metadata": {},
     "output_type": "execute_result"
    }
   ],
   "source": [
    "len(test)"
   ]
  },
  {
   "cell_type": "code",
   "execution_count": 25,
   "id": "8221c5a6",
   "metadata": {},
   "outputs": [
    {
     "data": {
      "text/plain": [
       "10000"
      ]
     },
     "execution_count": 25,
     "metadata": {},
     "output_type": "execute_result"
    }
   ],
   "source": [
    "len(sentences[-10_000:])"
   ]
  },
  {
   "cell_type": "code",
   "execution_count": 39,
   "id": "0b1d7cd0",
   "metadata": {},
   "outputs": [],
   "source": [
    "check = sentences[-29_588:]"
   ]
  },
  {
   "cell_type": "code",
   "execution_count": 40,
   "id": "22d55952",
   "metadata": {},
   "outputs": [],
   "source": [
    "test_check = test[-29_588:]"
   ]
  },
  {
   "cell_type": "code",
   "execution_count": 41,
   "id": "a7ac9f30",
   "metadata": {},
   "outputs": [],
   "source": [
    "import jiwer\n",
    "\n",
    "jiwerresult = []\n",
    "\n",
    "for x in range(len(check)):\n",
    "\n",
    "    jiwer_ = jiwer.wer(check[x],test_check.iloc[x,1])\n",
    "\n",
    "    jiwerresult.append(jiwer_)"
   ]
  },
  {
   "cell_type": "code",
   "execution_count": 37,
   "id": "e730412c",
   "metadata": {},
   "outputs": [
    {
     "data": {
      "text/plain": [
       "0.2729789306789587"
      ]
     },
     "execution_count": 37,
     "metadata": {},
     "output_type": "execute_result"
    }
   ],
   "source": [
    "avg_wer = sum(jiwerresult)/len(jiwerresult)\n",
    "avg_wer"
   ]
  },
  {
   "cell_type": "code",
   "execution_count": 42,
   "id": "a4b17ba3",
   "metadata": {},
   "outputs": [
    {
     "data": {
      "text/plain": [
       "0.26888149151446894"
      ]
     },
     "execution_count": 42,
     "metadata": {},
     "output_type": "execute_result"
    }
   ],
   "source": [
    "avg_wer = sum(jiwerresult)/len(jiwerresult)\n",
    "avg_wer"
   ]
  },
  {
   "cell_type": "code",
   "execution_count": null,
   "id": "f9a92547",
   "metadata": {},
   "outputs": [],
   "source": []
  },
  {
   "cell_type": "code",
   "execution_count": null,
   "id": "3ec82088",
   "metadata": {},
   "outputs": [],
   "source": []
  },
  {
   "cell_type": "code",
   "execution_count": 12,
   "id": "8130819f",
   "metadata": {},
   "outputs": [
    {
     "name": "stderr",
     "output_type": "stream",
     "text": [
      "  0%|          | 0/5918 [00:00<?, ?it/s]/home/ubuntu/.local/lib/python3.10/site-packages/transformers/models/wav2vec2/processing_wav2vec2.py:155: UserWarning: `as_target_processor` is deprecated and will be removed in v5 of Transformers. You can process your labels by using the argument `text` of the regular `__call__` method (either in the same call as your audio inputs, or in a separate call.\n",
      "  warnings.warn(\n",
      "/home/ubuntu/.local/lib/python3.10/site-packages/transformers/models/wav2vec2/processing_wav2vec2.py:155: UserWarning: `as_target_processor` is deprecated and will be removed in v5 of Transformers. You can process your labels by using the argument `text` of the regular `__call__` method (either in the same call as your audio inputs, or in a separate call.\n",
      "  warnings.warn(\n",
      "100%|█████████▉| 5917/5918 [13:03<00:00,  7.56it/s]\n"
     ]
    },
    {
     "ename": "IndexError",
     "evalue": "index 3 is out of bounds for dimension 0 with size 3",
     "output_type": "error",
     "traceback": [
      "\u001b[0;31m---------------------------------------------------------------------------\u001b[0m",
      "\u001b[0;31mIndexError\u001b[0m                                Traceback (most recent call last)",
      "Cell \u001b[0;32mIn[12], line 12\u001b[0m\n\u001b[1;32m      9\u001b[0m predicted_ids \u001b[38;5;241m=\u001b[39m torch\u001b[38;5;241m.\u001b[39margmax(y, dim\u001b[38;5;241m=\u001b[39m\u001b[38;5;241m-\u001b[39m\u001b[38;5;241m1\u001b[39m)\n\u001b[1;32m     11\u001b[0m \u001b[38;5;28;01mfor\u001b[39;00m i \u001b[38;5;129;01min\u001b[39;00m \u001b[38;5;28mrange\u001b[39m(batch_size):\n\u001b[0;32m---> 12\u001b[0m     transcription \u001b[38;5;241m=\u001b[39m processor\u001b[38;5;241m.\u001b[39mdecode(\u001b[43mpredicted_ids\u001b[49m\u001b[43m[\u001b[49m\u001b[43mi\u001b[49m\u001b[43m]\u001b[49m)\n\u001b[1;32m     13\u001b[0m     sentences\u001b[38;5;241m.\u001b[39mappend(transcription)\n",
      "\u001b[0;31mIndexError\u001b[0m: index 3 is out of bounds for dimension 0 with size 3"
     ]
    }
   ],
   "source": [
    "# sentences = []\n",
    "\n",
    "# with torch.no_grad():\n",
    "#     for batch in tqdm(test_loader):\n",
    "#         x = batch[\"input_values\"]\n",
    "#         x = x.to(\"cuda\", non_blocking=True)\n",
    "#         with torch.cuda.amp.autocast(True):\n",
    "#             y = model(x).logits\n",
    "#         predicted_ids = torch.argmax(y, dim=-1)\n",
    "\n",
    "#         for i in range(batch_size):\n",
    "#             transcription = processor.decode(predicted_ids[i])\n",
    "#             sentences.append(transcription)"
   ]
  },
  {
   "cell_type": "code",
   "execution_count": 14,
   "id": "6fc9cb17",
   "metadata": {},
   "outputs": [],
   "source": [
    "temp = \"একটু বয়েস হলে একটি বিদেশী।\""
   ]
  },
  {
   "cell_type": "code",
   "execution_count": 15,
   "id": "0a57b95f",
   "metadata": {},
   "outputs": [],
   "source": [
    "temp_1 = \"একটু বয়স হলে একটি বিদেশী।\""
   ]
  },
  {
   "cell_type": "code",
   "execution_count": 16,
   "id": "425c5356",
   "metadata": {},
   "outputs": [
    {
     "name": "stdout",
     "output_type": "stream",
     "text": [
      "False\n"
     ]
    }
   ],
   "source": [
    "if temp == temp_1:\n",
    "    print(True)\n",
    "else:\n",
    "    print(False)"
   ]
  },
  {
   "cell_type": "code",
   "execution_count": 17,
   "id": "b560c6e1",
   "metadata": {},
   "outputs": [
    {
     "data": {
      "text/plain": [
       "False"
      ]
     },
     "execution_count": 17,
     "metadata": {},
     "output_type": "execute_result"
    }
   ],
   "source": [
    "temp == temp_1"
   ]
  },
  {
   "cell_type": "code",
   "execution_count": 22,
   "id": "09b9c37e",
   "metadata": {},
   "outputs": [
    {
     "data": {
      "text/plain": [
       "True"
      ]
     },
     "execution_count": 22,
     "metadata": {},
     "output_type": "execute_result"
    }
   ],
   "source": [
    "dadada = \"একটু বয়েস হলে একটি বিদেশী।\"\n",
    "sss = \"একটু বয়েস হলে একটি বিদেশী।\"\n",
    "\n",
    "dadada == sss"
   ]
  },
  {
   "cell_type": "code",
   "execution_count": 3,
   "id": "052b477c",
   "metadata": {},
   "outputs": [],
   "source": [
    "def calculate_cer(actual, hyp):\n",
    "    \"\"\"\n",
    "    Calculate CER using `python-Levenshtein`.\n",
    "    \"\"\"\n",
    "    import Levenshtein as Lev\n",
    "\n",
    "    actual = actual.replace(' ', '')\n",
    "    hyp = hyp.replace(' ', '')\n",
    "    return Lev.distance(actual, hyp) / len(actual)"
   ]
  },
  {
   "cell_type": "code",
   "execution_count": 27,
   "id": "64298062",
   "metadata": {},
   "outputs": [
    {
     "data": {
      "text/plain": [
       "14.285714285714285"
      ]
     },
     "execution_count": 27,
     "metadata": {},
     "output_type": "execute_result"
    }
   ],
   "source": [
    "check = calculate_cer(\"একটু বয়স হলে একটি বিদেশী।\", \"একটু বয়েস হলে একটি বিদেশী।\")\n",
    "check*100"
   ]
  },
  {
   "cell_type": "code",
   "execution_count": 4,
   "id": "bf80065b",
   "metadata": {},
   "outputs": [],
   "source": [
    "def calculate_wer(actual, hyp):\n",
    "    \"\"\"\n",
    "    Calculate WER using `python-Levenshtein`.\n",
    "    \"\"\"\n",
    "    import Levenshtein as Lev\n",
    "\n",
    "    b = set(actual.split() + hyp.split())\n",
    "    word2char = dict(zip(b, range(len(b))))\n",
    "\n",
    "    w1 = [chr(word2char[w]) for w in actual.split()]\n",
    "    w2 = [chr(word2char[w]) for w in hyp.split()]\n",
    "\n",
    "    return Lev.distance(''.join(w1), ''.join(w2)) / len(actual.split())"
   ]
  },
  {
   "cell_type": "code",
   "execution_count": 29,
   "id": "5acb8357",
   "metadata": {},
   "outputs": [
    {
     "data": {
      "text/plain": [
       "20.0"
      ]
     },
     "execution_count": 29,
     "metadata": {},
     "output_type": "execute_result"
    }
   ],
   "source": [
    "check = calculate_wer(\"একটু বয়স হলে একটি বিদেশী।\", \"একটু বয়েস হলে একটি বিদেশী।\")\n",
    "check*100"
   ]
  },
  {
   "cell_type": "code",
   "execution_count": 1,
   "id": "435868ed",
   "metadata": {},
   "outputs": [],
   "source": [
    "text_0 = \"এবার ক্যাম্পাসে আসছে ইউজিসি\\u200cর বিশেষ টিম যাদবপুর বিশ্ববিদ্যালয়ের রিপোর্ট কেমনযাদবপুর বিশ্ববিদ্যালয়কে চিঠি দেয় ইউজিসি। সেই চিঠির উত্তরও দেয় যাদবপুর বিশ্ববিদ্যালয় কর্তৃপক্ষ। কিন্তু তাতে সন্তুষ্ট নয় ইউজিসি। তাই যাদবপুর বিশ্ববিদ্যালয়ে আসছে ইউজিসির প্রতিনিধি দল বলে সূত্রের খবর। বিশ্ববিদ্যালয়ের পাঠানো রিপোর্টে অখুশি হয়েই ক্যাম্পাসে আসার সিদ্ধান্ত নিয়েছে তাঁরা।\"\n",
    "text_1 = \"এবার ক্যাম্পাসে আসছে ইউজিসির বিশেষ টিম যাদবপুর বিশ্ববিদ্যালয়ের রিপোর্ট কেমনযাদবপুর বিশ্ববিদ্যালয়কে চিঠি দেয় ইউজিসি। সেই চিঠির উত্তরও দেয় যাদবপুর বিশ্ববিদ্যালয় কর্তৃপক্ষ। কিন্তু তাতে সন্তুষ্ট নয় ইউজিসি। তাই যাদবপুর বিশ্ববিদ্যালয়ে আসছে ইউজিসির প্রতিনিধি দল বলে সূত্রের খবর। বিশ্ববিদ্যালয়ের পাঠানো রিপোর্টে অখুশি হয়েই ক্যাম্পাসে আসার সিদ্ধান্ত নিয়েছে তাঁরা।\""
   ]
  },
  {
   "cell_type": "code",
   "execution_count": 5,
   "id": "89dd6ca3",
   "metadata": {},
   "outputs": [
    {
     "name": "stdout",
     "output_type": "stream",
     "text": [
      "0.0032258064516129032\n",
      "0.021739130434782608\n"
     ]
    }
   ],
   "source": [
    "print(calculate_cer(text_0, text_1))\n",
    "print(calculate_wer(text_0, text_1))"
   ]
  },
  {
   "cell_type": "code",
   "execution_count": 6,
   "id": "77854add",
   "metadata": {},
   "outputs": [],
   "source": [
    "text_0 = \"ইউজিসির\"\n",
    "text_1 = \"ইউজিসি‌র\""
   ]
  },
  {
   "cell_type": "code",
   "execution_count": 7,
   "id": "d0ca1633",
   "metadata": {},
   "outputs": [
    {
     "name": "stdout",
     "output_type": "stream",
     "text": [
      "0.14285714285714285\n",
      "1.0\n"
     ]
    }
   ],
   "source": [
    "print(calculate_cer(text_0, text_1))\n",
    "print(calculate_wer(text_0, text_1))"
   ]
  },
  {
   "cell_type": "code",
   "execution_count": null,
   "id": "0bdadb9a",
   "metadata": {},
   "outputs": [],
   "source": [
    "text_0 = sentences[0]\n",
    "text_1 = test.iloc[0,1]"
   ]
  },
  {
   "cell_type": "code",
   "execution_count": 24,
   "id": "0cf54377",
   "metadata": {},
   "outputs": [
    {
     "name": "stdout",
     "output_type": "stream",
     "text": [
      "0.14084507042253522\n",
      "0.5\n"
     ]
    }
   ],
   "source": [
    "print(calculate_cer(text_0, text_1))\n",
    "print(calculate_wer(text_0, text_1))"
   ]
  },
  {
   "cell_type": "code",
   "execution_count": null,
   "id": "25f0e6ac",
   "metadata": {},
   "outputs": [],
   "source": []
  }
 ],
 "metadata": {
  "kernelspec": {
   "display_name": "Python 3 (ipykernel)",
   "language": "python",
   "name": "python3"
  },
  "language_info": {
   "codemirror_mode": {
    "name": "ipython",
    "version": 3
   },
   "file_extension": ".py",
   "mimetype": "text/x-python",
   "name": "python",
   "nbconvert_exporter": "python",
   "pygments_lexer": "ipython3",
   "version": "3.10.12"
  }
 },
 "nbformat": 4,
 "nbformat_minor": 5
}
