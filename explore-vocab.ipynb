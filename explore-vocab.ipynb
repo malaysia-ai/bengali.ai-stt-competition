{
 "cells": [
  {
   "cell_type": "code",
   "execution_count": 27,
   "id": "6cbcc69a",
   "metadata": {},
   "outputs": [],
   "source": [
    "import json\n",
    "import pandas as pd\n",
    "import re"
   ]
  },
  {
   "cell_type": "code",
   "execution_count": null,
   "id": "5d9b54e5",
   "metadata": {},
   "outputs": [],
   "source": []
  },
  {
   "cell_type": "code",
   "execution_count": 28,
   "id": "5c257a33",
   "metadata": {},
   "outputs": [
    {
     "data": {
      "text/plain": [
       "['<pad>',\n",
       " '<s>',\n",
       " '</s>',\n",
       " '<unk>',\n",
       " '|',\n",
       " 'া',\n",
       " 'র',\n",
       " 'ে',\n",
       " '্',\n",
       " 'ি',\n",
       " 'ন',\n",
       " 'ক',\n",
       " 'য',\n",
       " 'ব',\n",
       " 'ত',\n",
       " 'স',\n",
       " 'ল',\n",
       " 'প',\n",
       " '়',\n",
       " 'ম',\n",
       " 'ট',\n",
       " 'ু',\n",
       " 'দ',\n",
       " 'এ',\n",
       " 'হ',\n",
       " 'ো',\n",
       " 'জ',\n",
       " 'গ',\n",
       " 'শ',\n",
       " 'ছ',\n",
       " 'ী',\n",
       " 'ই',\n",
       " 'থ',\n",
       " 'ভ',\n",
       " 'অ',\n",
       " 'আ',\n",
       " 'ং',\n",
       " 'ষ',\n",
       " 'চ',\n",
       " 'ড',\n",
       " 'ধ',\n",
       " 'ও',\n",
       " 'ণ',\n",
       " 'খ',\n",
       " 'উ',\n",
       " 'ফ',\n",
       " '\"',\n",
       " 'ূ',\n",
       " '0',\n",
       " 'ৃ',\n",
       " '।',\n",
       " 'ঘ',\n",
       " '1',\n",
       " 'ঠ',\n",
       " 'ঁ',\n",
       " '-',\n",
       " 'ঞ',\n",
       " '2',\n",
       " 'ৈ',\n",
       " 'ঙ',\n",
       " 'ৌ',\n",
       " '9',\n",
       " '5',\n",
       " '4',\n",
       " 'ৎ',\n",
       " '3',\n",
       " 'ঝ',\n",
       " '০',\n",
       " '6',\n",
       " '8',\n",
       " ',',\n",
       " \"'\",\n",
       " '7',\n",
       " 'a',\n",
       " '১',\n",
       " '.',\n",
       " 'ঃ',\n",
       " 'c',\n",
       " '৪',\n",
       " ':',\n",
       " '২',\n",
       " '৯',\n",
       " 'ঐ',\n",
       " 't',\n",
       " 's',\n",
       " '/',\n",
       " 'm',\n",
       " 'p',\n",
       " '৬',\n",
       " 'i',\n",
       " '৫',\n",
       " '৮',\n",
       " 'n',\n",
       " '৩',\n",
       " 'ঢ',\n",
       " '৭',\n",
       " 'u',\n",
       " 'o',\n",
       " 'r',\n",
       " 'd',\n",
       " 'h',\n",
       " 'e',\n",
       " 'v',\n",
       " 'l',\n",
       " 'g',\n",
       " 'b',\n",
       " 'w',\n",
       " 'ঈ',\n",
       " ';',\n",
       " 'y',\n",
       " 'k',\n",
       " 'x',\n",
       " '\\u200d',\n",
       " '%',\n",
       " 'f',\n",
       " '!',\n",
       " 'ঔ',\n",
       " '¥',\n",
       " 'õ',\n",
       " 'ঊ',\n",
       " 'ঋ',\n",
       " '°',\n",
       " 'q',\n",
       " 'í',\n",
       " '+',\n",
       " 'ü',\n",
       " 'z',\n",
       " '[',\n",
       " ']',\n",
       " '£',\n",
       " '৷',\n",
       " '?',\n",
       " 'j',\n",
       " 'ú',\n",
       " 'á',\n",
       " '—']"
      ]
     },
     "execution_count": 28,
     "metadata": {},
     "output_type": "execute_result"
    }
   ],
   "source": [
    "with open('/home/ubuntu/bengali/aisyah/training/vocab.json') as fopen:\n",
    "    vocab = json.load(fopen)\n",
    "    vocab = {v: k for k, v in vocab.items()}\n",
    "    \n",
    "vocab = [vocab[i] for i in range(len(vocab))]\n",
    "vocab"
   ]
  },
  {
   "cell_type": "code",
   "execution_count": 29,
   "id": "13355262",
   "metadata": {
    "scrolled": true
   },
   "outputs": [
    {
     "data": {
      "text/plain": [
       "136"
      ]
     },
     "execution_count": 29,
     "metadata": {},
     "output_type": "execute_result"
    }
   ],
   "source": [
    "len(vocab)"
   ]
  },
  {
   "cell_type": "code",
   "execution_count": 33,
   "id": "5f5bb8d9",
   "metadata": {},
   "outputs": [],
   "source": [
    "def construct_vocab(texts):\n",
    "    \"\"\"\n",
    "    Get unique characters from all the text in a list\n",
    "    \"\"\"\n",
    "    all_text = \" \".join(texts)\n",
    "    vocab = list(set(all_text))\n",
    "    return vocab\n",
    "\n",
    "\n",
    "def save_vocab(dataframe):\n",
    "    \"\"\"\n",
    "    Saves the processed vocab file as 'vocab.json', to be ingested by tokenizer\n",
    "    \"\"\"\n",
    "    vocab = construct_vocab(dataframe['sentence'].tolist())\n",
    "    vocab_dict = {v: k for k, v in enumerate(vocab)}\n",
    "    vocab_dict[\"|\"] = vocab_dict[\" \"]\n",
    "    _ = vocab_dict.pop(\" \")\n",
    "    vocab_dict[\"<unk>\"] = len(vocab_dict)\n",
    "    vocab_dict[\"<pad>\"] = len(vocab_dict)\n",
    "    \n",
    "    return vocab_dict\n",
    "\n",
    "def remove_special_characters(string):\n",
    "\n",
    "    chars_to_ignore_regex = '[\\,\\?\\.\\!\\-\\;\\:\\\"]'\n",
    "    \n",
    "    clean = re.sub(chars_to_ignore_regex, \"\", string).lower() + \" \"\n",
    "  \n",
    "    return clean"
   ]
  },
  {
   "cell_type": "code",
   "execution_count": 34,
   "id": "eeaf14ee",
   "metadata": {},
   "outputs": [],
   "source": [
    "df = pd.read_csv('/home/ubuntu/bengali/data/train.csv')\n",
    "\n",
    "df['sentence'] = df['sentence'].apply(lambda x: remove_special_characters(x))"
   ]
  },
  {
   "cell_type": "code",
   "execution_count": 35,
   "id": "2337280b",
   "metadata": {},
   "outputs": [
    {
     "data": {
      "text/html": [
       "<div>\n",
       "<style scoped>\n",
       "    .dataframe tbody tr th:only-of-type {\n",
       "        vertical-align: middle;\n",
       "    }\n",
       "\n",
       "    .dataframe tbody tr th {\n",
       "        vertical-align: top;\n",
       "    }\n",
       "\n",
       "    .dataframe thead th {\n",
       "        text-align: right;\n",
       "    }\n",
       "</style>\n",
       "<table border=\"1\" class=\"dataframe\">\n",
       "  <thead>\n",
       "    <tr style=\"text-align: right;\">\n",
       "      <th></th>\n",
       "      <th>id</th>\n",
       "      <th>sentence</th>\n",
       "      <th>split</th>\n",
       "    </tr>\n",
       "  </thead>\n",
       "  <tbody>\n",
       "    <tr>\n",
       "      <th>0</th>\n",
       "      <td>000005f3362c</td>\n",
       "      <td>ও বলেছে আপনার ঠিকানা</td>\n",
       "      <td>train</td>\n",
       "    </tr>\n",
       "    <tr>\n",
       "      <th>1</th>\n",
       "      <td>00001dddd002</td>\n",
       "      <td>কোন মহান রাষ্ট্রের নাগরিক হতে চাও</td>\n",
       "      <td>train</td>\n",
       "    </tr>\n",
       "    <tr>\n",
       "      <th>2</th>\n",
       "      <td>00001e0bc131</td>\n",
       "      <td>আমি তোমার কষ্টটা বুঝছি কিন্তু এটা সঠিক পথ না।</td>\n",
       "      <td>train</td>\n",
       "    </tr>\n",
       "    <tr>\n",
       "      <th>3</th>\n",
       "      <td>000024b3d810</td>\n",
       "      <td>নাচ শেষ হওয়ার পর সকলে শরীর ধুয়ে একসঙ্গে ভোজন...</td>\n",
       "      <td>train</td>\n",
       "    </tr>\n",
       "    <tr>\n",
       "      <th>4</th>\n",
       "      <td>000028220ab3</td>\n",
       "      <td>হুমম ওহ হেই দেখো।</td>\n",
       "      <td>train</td>\n",
       "    </tr>\n",
       "    <tr>\n",
       "      <th>...</th>\n",
       "      <td>...</td>\n",
       "      <td>...</td>\n",
       "      <td>...</td>\n",
       "    </tr>\n",
       "    <tr>\n",
       "      <th>963631</th>\n",
       "      <td>ffffd07108b7</td>\n",
       "      <td>আপনার সাথে কথা বলতে চাই।</td>\n",
       "      <td>train</td>\n",
       "    </tr>\n",
       "    <tr>\n",
       "      <th>963632</th>\n",
       "      <td>ffffde37678a</td>\n",
       "      <td>সুতরাং পরের দিন আরএকটা ছবি না লইয়া চিত্রকর ছাড়...</td>\n",
       "      <td>train</td>\n",
       "    </tr>\n",
       "    <tr>\n",
       "      <th>963633</th>\n",
       "      <td>ffffe1b5f095</td>\n",
       "      <td>সামাজিক কর্মকাণ্ডসমিতিতে গিয়ে দেখা যায় শিল্পী ...</td>\n",
       "      <td>train</td>\n",
       "    </tr>\n",
       "    <tr>\n",
       "      <th>963634</th>\n",
       "      <td>ffffec31636e</td>\n",
       "      <td>গুগল ম্যাপসের সাহায্যে খুঁজে পাওয়া যাবে কোন জা...</td>\n",
       "      <td>train</td>\n",
       "    </tr>\n",
       "    <tr>\n",
       "      <th>963635</th>\n",
       "      <td>fffff9f38566</td>\n",
       "      <td>তোমরা আমাকে কী নাম ধরে ডাকবে</td>\n",
       "      <td>train</td>\n",
       "    </tr>\n",
       "  </tbody>\n",
       "</table>\n",
       "<p>963636 rows × 3 columns</p>\n",
       "</div>"
      ],
      "text/plain": [
       "                  id                                           sentence  split\n",
       "0       000005f3362c                              ও বলেছে আপনার ঠিকানা   train\n",
       "1       00001dddd002                 কোন মহান রাষ্ট্রের নাগরিক হতে চাও   train\n",
       "2       00001e0bc131     আমি তোমার কষ্টটা বুঝছি কিন্তু এটা সঠিক পথ না।   train\n",
       "3       000024b3d810  নাচ শেষ হওয়ার পর সকলে শরীর ধুয়ে একসঙ্গে ভোজন...  train\n",
       "4       000028220ab3                                 হুমম ওহ হেই দেখো।   train\n",
       "...              ...                                                ...    ...\n",
       "963631  ffffd07108b7                          আপনার সাথে কথা বলতে চাই।   train\n",
       "963632  ffffde37678a  সুতরাং পরের দিন আরএকটা ছবি না লইয়া চিত্রকর ছাড়...  train\n",
       "963633  ffffe1b5f095  সামাজিক কর্মকাণ্ডসমিতিতে গিয়ে দেখা যায় শিল্পী ...  train\n",
       "963634  ffffec31636e  গুগল ম্যাপসের সাহায্যে খুঁজে পাওয়া যাবে কোন জা...  train\n",
       "963635  fffff9f38566                      তোমরা আমাকে কী নাম ধরে ডাকবে   train\n",
       "\n",
       "[963636 rows x 3 columns]"
      ]
     },
     "execution_count": 35,
     "metadata": {},
     "output_type": "execute_result"
    }
   ],
   "source": [
    "df"
   ]
  },
  {
   "cell_type": "code",
   "execution_count": 36,
   "id": "b39b262d",
   "metadata": {},
   "outputs": [],
   "source": [
    "train_vocab = save_vocab(df)"
   ]
  },
  {
   "cell_type": "code",
   "execution_count": 37,
   "id": "eb5df926",
   "metadata": {},
   "outputs": [
    {
     "data": {
      "text/plain": [
       "{'ভ': 0,\n",
       " '’': 1,\n",
       " 'ও': 2,\n",
       " 'প': 3,\n",
       " 'ঝ': 4,\n",
       " '–': 5,\n",
       " 'ক': 6,\n",
       " '“': 7,\n",
       " 'ঢ়': 8,\n",
       " 'গ': 9,\n",
       " 'ন': 10,\n",
       " '…': 11,\n",
       " 'শ': 12,\n",
       " 'ঙ': 13,\n",
       " 'ঔ': 14,\n",
       " 'ে': 15,\n",
       " 'ৰ': 16,\n",
       " \"'\": 17,\n",
       " 'খ': 18,\n",
       " 'হ': 20,\n",
       " 'ঁ': 21,\n",
       " 'থ': 22,\n",
       " 'ষ': 23,\n",
       " 'ৌ': 24,\n",
       " 'ধ': 25,\n",
       " 'ৎ': 26,\n",
       " 'ম': 27,\n",
       " '‚': 28,\n",
       " 'ৗ': 29,\n",
       " 'ফ': 30,\n",
       " 'ঞ': 31,\n",
       " 'ঢ': 32,\n",
       " '্': 33,\n",
       " '—': 34,\n",
       " '৵': 35,\n",
       " 'ত': 36,\n",
       " 'ি': 37,\n",
       " 'ঘ': 38,\n",
       " 'য়': 39,\n",
       " 'ু': 40,\n",
       " 'ৈ': 41,\n",
       " 'া': 42,\n",
       " 'ূ': 43,\n",
       " 'ঈ': 44,\n",
       " 'ং': 45,\n",
       " '়': 46,\n",
       " '।': 47,\n",
       " 'ছ': 48,\n",
       " 'ই': 49,\n",
       " 'ঃ': 50,\n",
       " 'ঐ': 51,\n",
       " '/': 52,\n",
       " 'ঋ': 53,\n",
       " 'ট': 54,\n",
       " '৷': 55,\n",
       " 'ল': 56,\n",
       " 'উ': 57,\n",
       " '॥': 58,\n",
       " 'ঠ': 59,\n",
       " 'জ': 60,\n",
       " 'আ': 61,\n",
       " 'য': 62,\n",
       " '‘': 63,\n",
       " 'ো': 64,\n",
       " 'ব': 65,\n",
       " 'ী': 66,\n",
       " 'ড়': 67,\n",
       " 'র': 68,\n",
       " 'দ': 69,\n",
       " '”': 70,\n",
       " 'ড': 71,\n",
       " 'অ': 72,\n",
       " 'এ': 73,\n",
       " 'চ': 74,\n",
       " 'ঊ': 75,\n",
       " 'ৃ': 76,\n",
       " 'ণ': 77,\n",
       " 'স': 78,\n",
       " '|': 19,\n",
       " '<unk>': 79,\n",
       " '<pad>': 80}"
      ]
     },
     "execution_count": 37,
     "metadata": {},
     "output_type": "execute_result"
    }
   ],
   "source": [
    "train_vocab"
   ]
  },
  {
   "cell_type": "code",
   "execution_count": 38,
   "id": "489da319",
   "metadata": {},
   "outputs": [],
   "source": [
    "train_vocab = {v: k for k, v in train_vocab.items()}"
   ]
  },
  {
   "cell_type": "code",
   "execution_count": 39,
   "id": "e34cc371",
   "metadata": {},
   "outputs": [
    {
     "data": {
      "text/plain": [
       "dict_items([(0, 'ভ'), (1, '’'), (2, 'ও'), (3, 'প'), (4, 'ঝ'), (5, '–'), (6, 'ক'), (7, '“'), (8, 'ঢ়'), (9, 'গ'), (10, 'ন'), (11, '…'), (12, 'শ'), (13, 'ঙ'), (14, 'ঔ'), (15, 'ে'), (16, 'ৰ'), (17, \"'\"), (18, 'খ'), (20, 'হ'), (21, 'ঁ'), (22, 'থ'), (23, 'ষ'), (24, 'ৌ'), (25, 'ধ'), (26, 'ৎ'), (27, 'ম'), (28, '‚'), (29, 'ৗ'), (30, 'ফ'), (31, 'ঞ'), (32, 'ঢ'), (33, '্'), (34, '—'), (35, '৵'), (36, 'ত'), (37, 'ি'), (38, 'ঘ'), (39, 'য়'), (40, 'ু'), (41, 'ৈ'), (42, 'া'), (43, 'ূ'), (44, 'ঈ'), (45, 'ং'), (46, '়'), (47, '।'), (48, 'ছ'), (49, 'ই'), (50, 'ঃ'), (51, 'ঐ'), (52, '/'), (53, 'ঋ'), (54, 'ট'), (55, '৷'), (56, 'ল'), (57, 'উ'), (58, '॥'), (59, 'ঠ'), (60, 'জ'), (61, 'আ'), (62, 'য'), (63, '‘'), (64, 'ো'), (65, 'ব'), (66, 'ী'), (67, 'ড়'), (68, 'র'), (69, 'দ'), (70, '”'), (71, 'ড'), (72, 'অ'), (73, 'এ'), (74, 'চ'), (75, 'ঊ'), (76, 'ৃ'), (77, 'ণ'), (78, 'স'), (19, '|'), (79, '<unk>'), (80, '<pad>')])"
      ]
     },
     "execution_count": 39,
     "metadata": {},
     "output_type": "execute_result"
    }
   ],
   "source": [
    "train_vocab.items()"
   ]
  },
  {
   "cell_type": "code",
   "execution_count": 40,
   "id": "23f44acf",
   "metadata": {},
   "outputs": [
    {
     "data": {
      "text/plain": [
       "['’', '–', '“', 'ঢ়', '…', 'ৰ', '‚', 'ৗ', '৵', 'য়', '॥', '‘', 'ড়', '”']"
      ]
     },
     "execution_count": 40,
     "metadata": {},
     "output_type": "execute_result"
    }
   ],
   "source": [
    "missed_char = [value for value in train_vocab.values() if value not in vocab]\n",
    "\n",
    "missed_char"
   ]
  },
  {
   "cell_type": "code",
   "execution_count": 41,
   "id": "278b69be",
   "metadata": {},
   "outputs": [
    {
     "data": {
      "text/plain": [
       "14"
      ]
     },
     "execution_count": 41,
     "metadata": {},
     "output_type": "execute_result"
    }
   ],
   "source": [
    "len(missed_char)"
   ]
  },
  {
   "cell_type": "markdown",
   "id": "0670deea",
   "metadata": {},
   "source": [
    "**About 14 characters we missed in our current training vocab, not including punctuatian would be about 7 bengali characters**"
   ]
  },
  {
   "cell_type": "code",
   "execution_count": 32,
   "id": "e2839606",
   "metadata": {},
   "outputs": [
    {
     "name": "stdout",
     "output_type": "stream",
     "text": [
      "vocab.json\r\n"
     ]
    }
   ],
   "source": [
    "!ls /home/ubuntu/bengali/aisyah/training/vocab_folder"
   ]
  },
  {
   "cell_type": "code",
   "execution_count": 33,
   "id": "a10d6537",
   "metadata": {},
   "outputs": [
    {
     "data": {
      "text/plain": [
       "['ী',\n",
       " 'থ',\n",
       " 'ু',\n",
       " 'চ',\n",
       " '’',\n",
       " 'ণ',\n",
       " 'শ',\n",
       " 'ন',\n",
       " 'র',\n",
       " 'আ',\n",
       " '॥',\n",
       " 'ঁ',\n",
       " 'ং',\n",
       " 'স',\n",
       " '”',\n",
       " 'ো',\n",
       " 'ধ',\n",
       " '—',\n",
       " 'ঈ',\n",
       " '‚',\n",
       " 'ফ',\n",
       " 'ভ',\n",
       " 'ট',\n",
       " '্',\n",
       " 'ঊ',\n",
       " 'ত',\n",
       " 'ি',\n",
       " 'হ',\n",
       " 'ঐ',\n",
       " 'ঢ়',\n",
       " 'ৰ',\n",
       " 'ক',\n",
       " 'ৎ',\n",
       " 'জ',\n",
       " 'খ',\n",
       " 'ই',\n",
       " '।',\n",
       " 'ূ',\n",
       " 'দ',\n",
       " 'ম',\n",
       " '৵',\n",
       " 'ব',\n",
       " '…',\n",
       " 'উ',\n",
       " 'ঝ',\n",
       " 'ও',\n",
       " 'ঢ',\n",
       " 'প',\n",
       " 'ৃ',\n",
       " '/',\n",
       " '“',\n",
       " 'য়',\n",
       " 'ল',\n",
       " 'ড',\n",
       " 'ে',\n",
       " 'য',\n",
       " 'এ',\n",
       " 'গ',\n",
       " '‘',\n",
       " 'ঔ',\n",
       " 'ৈ',\n",
       " 'ঠ',\n",
       " '়',\n",
       " \"'\",\n",
       " 'ঘ',\n",
       " 'ঃ',\n",
       " 'অ',\n",
       " 'ৗ',\n",
       " '–',\n",
       " 'ঞ',\n",
       " 'ঙ',\n",
       " 'ৌ',\n",
       " 'ষ',\n",
       " '৷',\n",
       " 'ড়',\n",
       " 'ঋ',\n",
       " 'ছ',\n",
       " 'া',\n",
       " '__',\n",
       " '[UNK]',\n",
       " '[PAD]']"
      ]
     },
     "execution_count": 33,
     "metadata": {},
     "output_type": "execute_result"
    }
   ],
   "source": [
    "import json\n",
    "\n",
    "with open('/home/ubuntu/bengali/aisyah/training/vocab_folder/vocab.json') as fopen:\n",
    "    vocab = json.load(fopen)\n",
    "    vocab = {v: k for k, v in vocab.items()}\n",
    "    \n",
    "vocab = [vocab[i] for i in range(len(vocab))]\n",
    "vocab"
   ]
  },
  {
   "cell_type": "code",
   "execution_count": 34,
   "id": "31f0ce31",
   "metadata": {},
   "outputs": [],
   "source": [
    "from transformers import (\n",
    "    Wav2Vec2ForCTC,\n",
    "    Wav2Vec2Processor,\n",
    "    Wav2Vec2CTCTokenizer,\n",
    "    Wav2Vec2FeatureExtractor\n",
    ") \n",
    "\n",
    "tokenizer = Wav2Vec2CTCTokenizer(\n",
    "        \"/home/ubuntu/bengali/aisyah/training/vocab_folder/vocab.json\", \n",
    "        unk_token=\"[UNK]\",\n",
    "        pad_token=\"[PAD]\",\n",
    "        word_delimiter_token=\"__\"\n",
    "    )\n"
   ]
  },
  {
   "cell_type": "code",
   "execution_count": 29,
   "id": "af61cdfc",
   "metadata": {},
   "outputs": [],
   "source": [
    "feature_extractor = Wav2Vec2FeatureExtractor(\n",
    "        feature_size=1, \n",
    "        sampling_rate=16000, \n",
    "        padding_value=0.0, \n",
    "        do_normalize=True, \n",
    "        return_attention_mask=False\n",
    "    )\n",
    "\n",
    "processor = Wav2Vec2Processor(feature_extractor=feature_extractor, tokenizer=tokenizer)"
   ]
  },
  {
   "cell_type": "code",
   "execution_count": 38,
   "id": "9797b390",
   "metadata": {},
   "outputs": [
    {
     "data": {
      "text/plain": [
       "14"
      ]
     },
     "execution_count": 38,
     "metadata": {},
     "output_type": "execute_result"
    }
   ],
   "source": [
    "processor.tokenizer.word_delimiter_token_id"
   ]
  },
  {
   "cell_type": "code",
   "execution_count": 35,
   "id": "c62e4fb5",
   "metadata": {},
   "outputs": [
    {
     "data": {
      "text/plain": [
       "81"
      ]
     },
     "execution_count": 35,
     "metadata": {},
     "output_type": "execute_result"
    }
   ],
   "source": [
    "len(tokenizer)"
   ]
  },
  {
   "cell_type": "code",
   "execution_count": null,
   "id": "6d1d92bc",
   "metadata": {},
   "outputs": [],
   "source": [
    "model = Wav2Vec2ForCTC.from_pretrained(model_args.model_name_or_path,pad_token_id=0)"
   ]
  }
 ],
 "metadata": {
  "kernelspec": {
   "display_name": "Python 3 (ipykernel)",
   "language": "python",
   "name": "python3"
  },
  "language_info": {
   "codemirror_mode": {
    "name": "ipython",
    "version": 3
   },
   "file_extension": ".py",
   "mimetype": "text/x-python",
   "name": "python",
   "nbconvert_exporter": "python",
   "pygments_lexer": "ipython3",
   "version": "3.10.12"
  }
 },
 "nbformat": 4,
 "nbformat_minor": 5
}
