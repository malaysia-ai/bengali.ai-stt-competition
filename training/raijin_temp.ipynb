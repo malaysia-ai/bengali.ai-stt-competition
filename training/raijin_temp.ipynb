{
 "cells": [
  {
   "cell_type": "code",
   "execution_count": 1,
   "id": "c9879910",
   "metadata": {},
   "outputs": [
    {
     "name": "stderr",
     "output_type": "stream",
     "text": [
      "2023-09-06 10:39:07.736525: I tensorflow/core/platform/cpu_feature_guard.cc:182] This TensorFlow binary is optimized to use available CPU instructions in performance-critical operations.\n",
      "To enable the following instructions: AVX2 FMA, in other operations, rebuild TensorFlow with the appropriate compiler flags.\n",
      "2023-09-06 10:39:08.465696: W tensorflow/compiler/tf2tensorrt/utils/py_utils.cc:38] TF-TRT Warning: Could not find TensorRT\n"
     ]
    },
    {
     "name": "stdout",
     "output_type": "stream",
     "text": [
      "[2023-09-06 10:39:09,563] [INFO] [real_accelerator.py:158:get_accelerator] Setting ds_accelerator to cuda (auto detect)\n"
     ]
    }
   ],
   "source": [
    "import functools\n",
    "import json\n",
    "import logging\n",
    "import os\n",
    "import re\n",
    "import sys\n",
    "import warnings\n",
    "from dataclasses import dataclass, field\n",
    "from typing import Dict, List, Optional, Union\n",
    "from dataset import BengaliDataset\n",
    "import datasets\n",
    "import evaluate\n",
    "import numpy as np\n",
    "import torch\n",
    "from datasets import DatasetDict, load_dataset\n",
    "import pandas as pd\n",
    "import transformers\n",
    "from transformers import (\n",
    "    AutoConfig,\n",
    "    AutoFeatureExtractor,\n",
    "    AutoModelForCTC,\n",
    "    AutoProcessor,\n",
    "    AutoTokenizer,\n",
    "    HfArgumentParser,\n",
    "    Trainer,\n",
    "    TrainingArguments,\n",
    "    Wav2Vec2Processor,\n",
    "    set_seed,\n",
    ")\n",
    "\n",
    "from transformers import (\n",
    "    Wav2Vec2ForCTC,\n",
    "    Wav2Vec2Processor,\n",
    "    Wav2Vec2CTCTokenizer,\n",
    "    Wav2Vec2FeatureExtractor\n",
    ") \n",
    "from transformers.trainer_utils import get_last_checkpoint, is_main_process\n",
    "from transformers.utils import check_min_version, send_example_telemetry\n",
    "from transformers.utils.versions import require_version"
   ]
  },
  {
   "cell_type": "code",
   "execution_count": 2,
   "id": "38c6522e",
   "metadata": {},
   "outputs": [],
   "source": [
    "df_ = pd.read_parquet(\"/home/ubuntu/bengali/data/train_duration.parquet\")"
   ]
  },
  {
   "cell_type": "code",
   "execution_count": 3,
   "id": "fbd28a7c",
   "metadata": {},
   "outputs": [
    {
     "data": {
      "text/plain": [
       "963636"
      ]
     },
     "execution_count": 3,
     "metadata": {},
     "output_type": "execute_result"
    }
   ],
   "source": [
    "len(df_)"
   ]
  },
  {
   "cell_type": "code",
   "execution_count": 10,
   "id": "184c10c0",
   "metadata": {},
   "outputs": [],
   "source": [
    "text_list = []\n",
    "file_path = \"/home/ubuntu/Raijin/bn_dedup.txt\"\n",
    "with open(file_path, \"r\") as file_input:\n",
    "    for line in file_input:\n",
    "#         print(line)\n",
    "        text_list.append(line)"
   ]
  },
  {
   "cell_type": "code",
   "execution_count": 11,
   "id": "f6f465a9",
   "metadata": {},
   "outputs": [
    {
     "data": {
      "text/plain": [
       "7679439"
      ]
     },
     "execution_count": 11,
     "metadata": {},
     "output_type": "execute_result"
    }
   ],
   "source": [
    "len(text_list)"
   ]
  },
  {
   "cell_type": "code",
   "execution_count": 12,
   "id": "8efd1d48",
   "metadata": {
    "scrolled": true
   },
   "outputs": [
    {
     "data": {
      "text/plain": [
       "309711"
      ]
     },
     "execution_count": 12,
     "metadata": {},
     "output_type": "execute_result"
    }
   ],
   "source": [
    "scraped_df = pd.read_csv(\"/home/ubuntu/Raijin/Bengali_News_1.csv\")\n",
    "len(scraped_df)"
   ]
  },
  {
   "cell_type": "code",
   "execution_count": 13,
   "id": "94ec7e08",
   "metadata": {},
   "outputs": [
    {
     "data": {
      "text/plain": [
       "Index(['Headlines', 'Highlights'], dtype='object')"
      ]
     },
     "execution_count": 13,
     "metadata": {},
     "output_type": "execute_result"
    }
   ],
   "source": [
    "scraped_df.columns"
   ]
  },
  {
   "cell_type": "code",
   "execution_count": 14,
   "id": "8d46d988",
   "metadata": {},
   "outputs": [],
   "source": [
    "scraped_list = []\n",
    "for x in range(len(scraped_df)):\n",
    "    head = scraped_df[\"Headlines\"][x]\n",
    "    high = scraped_df[\"Highlights\"][x]\n",
    "    scraped_list.append(f\"{head} {high}\")"
   ]
  },
  {
   "cell_type": "code",
   "execution_count": 15,
   "id": "5558c8cb",
   "metadata": {},
   "outputs": [
    {
     "data": {
      "text/plain": [
       "'এবার ক্যাম্পাসে আসছে ইউজিসি’\\u200cর বিশেষ টিম, যাদবপুর বিশ্ববিদ্যালয়ের রিপোর্ট কেমন?'"
      ]
     },
     "execution_count": 15,
     "metadata": {},
     "output_type": "execute_result"
    }
   ],
   "source": [
    "scraped_df[\"Headlines\"][0]"
   ]
  },
  {
   "cell_type": "code",
   "execution_count": 16,
   "id": "1adfe394",
   "metadata": {},
   "outputs": [
    {
     "data": {
      "text/plain": [
       "'ও বলেছে আপনার ঠিকানা!'"
      ]
     },
     "execution_count": 16,
     "metadata": {},
     "output_type": "execute_result"
    }
   ],
   "source": [
    "df_[\"sentence\"][0]"
   ]
  },
  {
   "cell_type": "code",
   "execution_count": 17,
   "id": "3f1e0637",
   "metadata": {},
   "outputs": [
    {
     "data": {
      "text/plain": [
       "(963636, ['ও বলেছে আপনার ঠিকানা!', 'কোন মহান রাষ্ট্রের নাগরিক হতে চাও?'])"
      ]
     },
     "execution_count": 17,
     "metadata": {},
     "output_type": "execute_result"
    }
   ],
   "source": [
    "base_list = []\n",
    "for x in range(len(df_)):\n",
    "    base_list.append(df_[\"sentence\"][x])\n",
    "    \n",
    "len(base_list), base_list[0:2]"
   ]
  },
  {
   "cell_type": "code",
   "execution_count": 18,
   "id": "6590a541",
   "metadata": {},
   "outputs": [
    {
     "data": {
      "text/plain": [
       "8952786"
      ]
     },
     "execution_count": 18,
     "metadata": {},
     "output_type": "execute_result"
    }
   ],
   "source": [
    "combined_list = base_list + scraped_list + text_list\n",
    "len(combined_list)"
   ]
  },
  {
   "cell_type": "code",
   "execution_count": 19,
   "id": "61e55686",
   "metadata": {},
   "outputs": [
    {
     "data": {
      "text/plain": [
       "(963636, 309711, 7679439)"
      ]
     },
     "execution_count": 19,
     "metadata": {},
     "output_type": "execute_result"
    }
   ],
   "source": [
    "len(base_list), len(scraped_list), len(text_list)"
   ]
  },
  {
   "cell_type": "code",
   "execution_count": 20,
   "id": "450dfbcb",
   "metadata": {},
   "outputs": [],
   "source": [
    "from bnunicodenormalizer import Normalizer "
   ]
  },
  {
   "cell_type": "code",
   "execution_count": 21,
   "id": "dba05b8a",
   "metadata": {},
   "outputs": [
    {
     "data": {
      "text/plain": [
       "{'normalized': 'টোবাকোওবলেছেআপনারঠিকানা!',\n",
       " 'given': 'াটোবাকোওবলেছেআপনারঠিকানা!',\n",
       " 'ops': [{'operation': 'InvalidUnicode',\n",
       "   'before': 'াটোবাকোওবলেছেআপনারঠিকানা!',\n",
       "   'after': 'টোবাকোওবলেছেআপনারঠিকানা!'}]}"
      ]
     },
     "execution_count": 21,
     "metadata": {},
     "output_type": "execute_result"
    }
   ],
   "source": [
    "bnorm=Normalizer()\n",
    "# normalize\n",
    "word = 'াটোবাকোওবলেছেআপনারঠিকানা!'\n",
    "result=bnorm(word)\n",
    "result"
   ]
  },
  {
   "cell_type": "code",
   "execution_count": 22,
   "id": "ec21ac61",
   "metadata": {},
   "outputs": [
    {
     "data": {
      "text/plain": [
       "{'operation': 'InvalidUnicode',\n",
       " 'before': 'াটোবাকোওবলেছেআপনারঠিকানা!',\n",
       " 'after': 'টোবাকোওবলেছেআপনারঠিকানা!'}"
      ]
     },
     "execution_count": 22,
     "metadata": {},
     "output_type": "execute_result"
    }
   ],
   "source": [
    "result[\"ops\"][0]"
   ]
  },
  {
   "cell_type": "code",
   "execution_count": null,
   "id": "255970af",
   "metadata": {},
   "outputs": [],
   "source": [
    "# normalized_list = []\n",
    "# for x in range(len(combined_list)):\n",
    "    \n",
    "#     words = combined_list[x].split(\" \")\n",
    "#     complete_sentence = []\n",
    "    \n",
    "#     for word in words:\n",
    "#         norm = bnorm(word)\n",
    "        \n",
    "#         if len(norm[\"ops\"]) != 0:\n",
    "#             output = norm[\"ops\"][0][\"after\"]\n",
    "#         else:\n",
    "#             output = norm[\"normalized\"]\n",
    "            \n",
    "#         complete_sentence.append(output)\n",
    "        \n",
    "#     try:    \n",
    "#         full_string = \" \".join(complete_sentence)\n",
    "#     except Exception as e:\n",
    "#         full_string = \" \"\n",
    "#     finally:\n",
    "#         normalized_list.append(full_string)"
   ]
  },
  {
   "cell_type": "code",
   "execution_count": 23,
   "id": "49dc0e14",
   "metadata": {},
   "outputs": [
    {
     "data": {
      "text/plain": [
       "8952786"
      ]
     },
     "execution_count": 23,
     "metadata": {},
     "output_type": "execute_result"
    }
   ],
   "source": [
    "len(combined_list)"
   ]
  },
  {
   "cell_type": "code",
   "execution_count": null,
   "id": "f6a6ee06",
   "metadata": {},
   "outputs": [],
   "source": []
  },
  {
   "cell_type": "code",
   "execution_count": null,
   "id": "8ed7a2c5",
   "metadata": {},
   "outputs": [],
   "source": []
  }
 ],
 "metadata": {
  "kernelspec": {
   "display_name": "Python 3 (ipykernel)",
   "language": "python",
   "name": "python3"
  },
  "language_info": {
   "codemirror_mode": {
    "name": "ipython",
    "version": 3
   },
   "file_extension": ".py",
   "mimetype": "text/x-python",
   "name": "python",
   "nbconvert_exporter": "python",
   "pygments_lexer": "ipython3",
   "version": "3.10.12"
  }
 },
 "nbformat": 4,
 "nbformat_minor": 5
}
