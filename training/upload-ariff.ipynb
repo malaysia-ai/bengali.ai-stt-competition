{
 "cells": [
  {
   "cell_type": "code",
   "execution_count": 1,
   "id": "d02322b3",
   "metadata": {},
   "outputs": [],
   "source": [
    "import os\n",
    "\n",
    "os.environ['CUDA_VISIBLE_DEVICES'] = ''\n",
    "os.environ['TF_FORCE_GPU_ALLOW_GROWTH'] = 'true'"
   ]
  },
  {
   "cell_type": "code",
   "execution_count": 6,
   "id": "b9e662c3",
   "metadata": {},
   "outputs": [
    {
     "name": "stdout",
     "output_type": "stream",
     "text": [
      "__pycache__\t\t       train_asr.py\r\n",
      "bengali-speech-training.ipynb  training.sh\r\n",
      "dataset.py\t\t       upload-ariff.ipynb\r\n",
      "ds_config_zero3.json\t       vocab-mms.json\r\n",
      "mms-1b\t\t\t       vocab.json\r\n",
      "mms-1b-all\t\t       vocab_folder\r\n",
      "mms-1b.ipynb\t\t       wandb\r\n",
      "raijin_temp.ipynb\t       wav2vec.sh\r\n",
      "raijin_training.py\t       wav2vec2\r\n",
      "run_speech_recognition_ctc.py  wav2vec2-finetune.py\r\n",
      "test\t\t\t       wav2vec2_old\r\n",
      "test.ipynb\r\n"
     ]
    }
   ],
   "source": [
    "!lswav2vec2"
   ]
  },
  {
   "cell_type": "code",
   "execution_count": 7,
   "id": "9675e03a",
   "metadata": {},
   "outputs": [
    {
     "name": "stderr",
     "output_type": "stream",
     "text": [
      "2023-09-09 07:01:22.290308: I tensorflow/core/platform/cpu_feature_guard.cc:182] This TensorFlow binary is optimized to use available CPU instructions in performance-critical operations.\n",
      "To enable the following instructions: AVX2 FMA, in other operations, rebuild TensorFlow with the appropriate compiler flags.\n",
      "2023-09-09 07:01:22.960161: W tensorflow/compiler/tf2tensorrt/utils/py_utils.cc:38] TF-TRT Warning: Could not find TensorRT\n"
     ]
    },
    {
     "data": {
      "text/plain": [
       "'wav2vec2/checkpoint-58200'"
      ]
     },
     "execution_count": 7,
     "metadata": {},
     "output_type": "execute_result"
    }
   ],
   "source": [
    "from transformers.trainer_utils import get_last_checkpoint\n",
    "\n",
    "latest = get_last_checkpoint(\"wav2vec2\")\n",
    "latest"
   ]
  },
  {
   "cell_type": "code",
   "execution_count": null,
   "id": "3aaccd47",
   "metadata": {},
   "outputs": [],
   "source": []
  },
  {
   "cell_type": "code",
   "execution_count": null,
   "id": "d8564c92",
   "metadata": {},
   "outputs": [],
   "source": []
  },
  {
   "cell_type": "code",
   "execution_count": null,
   "id": "a6ae2802",
   "metadata": {},
   "outputs": [],
   "source": []
  }
 ],
 "metadata": {
  "kernelspec": {
   "display_name": "Python 3 (ipykernel)",
   "language": "python",
   "name": "python3"
  },
  "language_info": {
   "codemirror_mode": {
    "name": "ipython",
    "version": 3
   },
   "file_extension": ".py",
   "mimetype": "text/x-python",
   "name": "python",
   "nbconvert_exporter": "python",
   "pygments_lexer": "ipython3",
   "version": "3.10.12"
  }
 },
 "nbformat": 4,
 "nbformat_minor": 5
}
