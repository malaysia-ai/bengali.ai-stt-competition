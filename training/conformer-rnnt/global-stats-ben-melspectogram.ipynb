{
 "cells": [
  {
   "cell_type": "code",
   "execution_count": 76,
   "id": "9ec86da0",
   "metadata": {},
   "outputs": [],
   "source": [
    "import malaya_speech\n",
    "import torch\n",
    "from malaya_speech.utils import torch_featurization\n",
    "import numpy as np\n",
    "import json\n",
    "from datasets import Audio"
   ]
  },
  {
   "cell_type": "code",
   "execution_count": 77,
   "id": "f1aa8a78",
   "metadata": {},
   "outputs": [],
   "source": [
    "import pandas as pd\n",
    "from sklearn.model_selection import train_test_split"
   ]
  },
  {
   "cell_type": "code",
   "execution_count": 79,
   "id": "599a0aa1",
   "metadata": {},
   "outputs": [],
   "source": [
    "# /home/ubuntu/bengali/data/LATEST_DATA_WAV2VEC2_DURATION.parquet\n",
    "# 1. load the dataset\n",
    "df = pd.read_parquet(\"/home/ubuntu/bengali/data/LATEST_DATA_WAV2VEC2_DURATION.parquet\")\n",
    "train, val = train_test_split(df, test_size=0.5, random_state=42)"
   ]
  },
  {
   "cell_type": "code",
   "execution_count": 80,
   "id": "a100c132",
   "metadata": {},
   "outputs": [],
   "source": [
    "class BengaliDataset(torch.utils.data.Dataset):\n",
    "\n",
    "    SR = 16000\n",
    "\n",
    "    def __init__(self, df):\n",
    "        self.df = df\n",
    "        self.audio = Audio(sampling_rate=self.SR)\n",
    "\n",
    "    def __getitem__(self, idx):\n",
    "        x = self.df.loc[idx]['path']\n",
    "        y = self.df.loc[idx]['sentence']\n",
    "\n",
    "        r = self.audio.decode_example(self.audio.encode_example(x))\n",
    "        return r['array'].astype(np.float32)\n",
    "\n",
    "    def __len__(self):\n",
    "        return len(self.df)"
   ]
  },
  {
   "cell_type": "code",
   "execution_count": 81,
   "id": "301815d6",
   "metadata": {},
   "outputs": [],
   "source": [
    "train_dataset = BengaliDataset(val.reset_index(drop=True))"
   ]
  },
  {
   "cell_type": "code",
   "execution_count": 82,
   "id": "31027a9f",
   "metadata": {},
   "outputs": [],
   "source": [
    "dataloader = torch.utils.data.DataLoader(train_dataset, num_workers=4)"
   ]
  },
  {
   "cell_type": "code",
   "execution_count": 83,
   "id": "d92d083a",
   "metadata": {},
   "outputs": [
    {
     "data": {
      "text/plain": [
       "dtype('float32')"
      ]
     },
     "execution_count": 83,
     "metadata": {},
     "output_type": "execute_result"
    }
   ],
   "source": [
    "train_dataset[0].dtype"
   ]
  },
  {
   "cell_type": "code",
   "execution_count": 84,
   "id": "4e6061dc",
   "metadata": {},
   "outputs": [
    {
     "data": {
      "text/plain": [
       "torch.float32"
      ]
     },
     "execution_count": 84,
     "metadata": {},
     "output_type": "execute_result"
    }
   ],
   "source": [
    "torch.Tensor(train_dataset[0]).dtype"
   ]
  },
  {
   "cell_type": "code",
   "execution_count": 85,
   "id": "fd456ee9",
   "metadata": {
    "scrolled": true
   },
   "outputs": [
    {
     "data": {
      "text/plain": [
       "'2.0.1+cu118'"
      ]
     },
     "execution_count": 85,
     "metadata": {},
     "output_type": "execute_result"
    }
   ],
   "source": [
    "torch.__version__"
   ]
  },
  {
   "cell_type": "code",
   "execution_count": 86,
   "id": "617830d5",
   "metadata": {},
   "outputs": [],
   "source": [
    "import torchaudio"
   ]
  },
  {
   "cell_type": "code",
   "execution_count": 87,
   "id": "dff489c2",
   "metadata": {},
   "outputs": [
    {
     "data": {
      "text/plain": [
       "'2.0.2+cu118'"
      ]
     },
     "execution_count": 87,
     "metadata": {},
     "output_type": "execute_result"
    }
   ],
   "source": [
    "torchaudio.__version__"
   ]
  },
  {
   "cell_type": "code",
   "execution_count": 88,
   "id": "a2260d0d",
   "metadata": {},
   "outputs": [],
   "source": [
    "from tqdm import tqdm\n",
    "\n",
    "def generate_statistics(samples):\n",
    "    E_x = 0\n",
    "    E_x_2 = 0\n",
    "    N = 0\n",
    "\n",
    "    for sample in tqdm(samples):\n",
    "#         print(sample[0].squeeze().dtype)\n",
    "        mel_spec = torch_featurization.melspectrogram(sample[0].squeeze())\n",
    "        scaled_mel_spec = torch_featurization.piecewise_linear_log(mel_spec)\n",
    "        sum = scaled_mel_spec.sum(0)\n",
    "        sq_sum = scaled_mel_spec.pow(2).sum(0)\n",
    "        M = scaled_mel_spec.size(0)\n",
    "\n",
    "        E_x = E_x * (N / (N + M)) + sum / (N + M)\n",
    "        E_x_2 = E_x_2 * (N / (N + M)) + sq_sum / (N + M)\n",
    "        N += M\n",
    "\n",
    "    return E_x, (E_x_2 - E_x**2) ** 0.5"
   ]
  },
  {
   "cell_type": "code",
   "execution_count": null,
   "id": "dbdaf6da",
   "metadata": {
    "scrolled": true
   },
   "outputs": [
    {
     "name": "stderr",
     "output_type": "stream",
     "text": [
      "  9%|▉         | 43031/483982 [11:29<41:53:22,  2.92it/s]"
     ]
    }
   ],
   "source": [
    "mean, stddev = generate_statistics(iter(dataloader))"
   ]
  },
  {
   "cell_type": "code",
   "execution_count": null,
   "id": "b0afdf98",
   "metadata": {},
   "outputs": [],
   "source": [
    "json_str = json.dumps({\"mean\": mean.tolist(), \"invstddev\": (1 / stddev).tolist()}, indent=2)\n",
    "with open('bengali-stats.json', \"w\") as f:\n",
    "    f.write(json_str)"
   ]
  },
  {
   "cell_type": "code",
   "execution_count": null,
   "id": "997c0e84",
   "metadata": {},
   "outputs": [],
   "source": []
  }
 ],
 "metadata": {
  "kernelspec": {
   "display_name": "Python 3 (ipykernel)",
   "language": "python",
   "name": "python3"
  },
  "language_info": {
   "codemirror_mode": {
    "name": "ipython",
    "version": 3
   },
   "file_extension": ".py",
   "mimetype": "text/x-python",
   "name": "python",
   "nbconvert_exporter": "python",
   "pygments_lexer": "ipython3",
   "version": "3.10.12"
  }
 },
 "nbformat": 4,
 "nbformat_minor": 5
}
