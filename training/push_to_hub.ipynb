{
 "cells": [
  {
   "cell_type": "code",
   "execution_count": 1,
   "id": "4ce72bf7",
   "metadata": {},
   "outputs": [
    {
     "name": "stdout",
     "output_type": "stream",
     "text": [
      "[2023-09-19 10:45:06,344] [INFO] [real_accelerator.py:158:get_accelerator] Setting ds_accelerator to cuda (auto detect)\n"
     ]
    },
    {
     "name": "stderr",
     "output_type": "stream",
     "text": [
      "2023-09-19 10:45:09.283729: I tensorflow/core/platform/cpu_feature_guard.cc:182] This TensorFlow binary is optimized to use available CPU instructions in performance-critical operations.\n",
      "To enable the following instructions: AVX2 FMA, in other operations, rebuild TensorFlow with the appropriate compiler flags.\n",
      "2023-09-19 10:45:10.130766: W tensorflow/compiler/tf2tensorrt/utils/py_utils.cc:38] TF-TRT Warning: Could not find TensorRT\n"
     ]
    }
   ],
   "source": [
    "from transformers import Wav2Vec2ForCTC, AutoProcessor,Wav2Vec2CTCTokenizer"
   ]
  },
  {
   "cell_type": "code",
   "execution_count": 4,
   "id": "92dcd34a",
   "metadata": {},
   "outputs": [
    {
     "name": "stdout",
     "output_type": "stream",
     "text": [
      "malaysia-ai2020\r\n",
      "\u001b[1morgs: \u001b[0m malaysia-ai\r\n"
     ]
    }
   ],
   "source": [
    "!~/.local/bin/huggingface-cli whoami"
   ]
  },
  {
   "cell_type": "code",
   "execution_count": 2,
   "id": "3de6bfaa",
   "metadata": {},
   "outputs": [
    {
     "name": "stderr",
     "output_type": "stream",
     "text": [
      "Special tokens have been added in the vocabulary, make sure the associated word embeddings are fine-tuned or trained.\n"
     ]
    }
   ],
   "source": [
    "processor = AutoProcessor.from_pretrained(\"/home/ubuntu/bengali/speech-to-text/training/mms-1b/checkpoint-36000\")\n",
    "model = Wav2Vec2ForCTC.from_pretrained(\"/home/ubuntu/bengali/speech-to-text/training/mms-1b/checkpoint-36000\")"
   ]
  },
  {
   "cell_type": "code",
   "execution_count": 5,
   "id": "b781f50a",
   "metadata": {},
   "outputs": [
    {
     "data": {
      "application/vnd.jupyter.widget-view+json": {
       "model_id": "b7309d14b93945e987644e3d74613c38",
       "version_major": 2,
       "version_minor": 0
      },
      "text/plain": [
       "pytorch_model.bin:   0%|          | 0.00/3.86G [00:00<?, ?B/s]"
      ]
     },
     "metadata": {},
     "output_type": "display_data"
    },
    {
     "data": {
      "text/plain": [
       "CommitInfo(commit_url='https://huggingface.co/malaysia-ai/mms-1b-all-bengali/commit/f2584c3987043648258bcfebca59ead6d16ff00d', commit_message='Upload Wav2Vec2ForCTC', commit_description='', oid='f2584c3987043648258bcfebca59ead6d16ff00d', pr_url=None, pr_revision=None, pr_num=None)"
      ]
     },
     "execution_count": 5,
     "metadata": {},
     "output_type": "execute_result"
    }
   ],
   "source": [
    "processor.push_to_hub(\"malaysia-ai/mms-1b-all-bengali\")\n",
    "model.push_to_hub(\"malaysia-ai/mms-1b-all-bengali\")"
   ]
  },
  {
   "cell_type": "code",
   "execution_count": 6,
   "id": "8dc37cf2",
   "metadata": {},
   "outputs": [],
   "source": [
    "process"
   ]
  },
  {
   "cell_type": "code",
   "execution_count": 11,
   "id": "a31251ac",
   "metadata": {},
   "outputs": [
    {
     "name": "stderr",
     "output_type": "stream",
     "text": [
      "\u001b[34m\u001b[1mwandb\u001b[0m: W&B API key is configured. Use \u001b[1m`wandb login --relogin`\u001b[0m to force relogin\n",
      "\u001b[34m\u001b[1mwandb\u001b[0m: \u001b[33mWARNING\u001b[0m If you're specifying your api key in code, ensure this code is not shared publicly.\n",
      "\u001b[34m\u001b[1mwandb\u001b[0m: \u001b[33mWARNING\u001b[0m Consider setting the WANDB_API_KEY environment variable, or running `wandb login` from the command line.\n",
      "\u001b[34m\u001b[1mwandb\u001b[0m: Appending key for api.wandb.ai to your netrc file: /home/ubuntu/.netrc\n"
     ]
    },
    {
     "data": {
      "text/plain": [
       "True"
      ]
     },
     "execution_count": 11,
     "metadata": {},
     "output_type": "execute_result"
    }
   ],
   "source": [
    "import wandb\n",
    "wandb.login(key=\"264b701906429041336908e7457a7f658e8eb313\")"
   ]
  },
  {
   "cell_type": "code",
   "execution_count": 9,
   "id": "10f465c9",
   "metadata": {},
   "outputs": [],
   "source": [
    "model.load_adapter('ben')"
   ]
  },
  {
   "cell_type": "code",
   "execution_count": 3,
   "id": "867eb487",
   "metadata": {},
   "outputs": [],
   "source": [
    "model.save_pretrained('./mms-1b-all')"
   ]
  },
  {
   "cell_type": "code",
   "execution_count": 4,
   "id": "a64890a3",
   "metadata": {},
   "outputs": [
    {
     "data": {
      "application/vnd.jupyter.widget-view+json": {
       "model_id": "39b8202c87734eb3bce491e6fe3e3168",
       "version_major": 2,
       "version_minor": 0
      },
      "text/plain": [
       "Downloading (…)rocessor_config.json:   0%|          | 0.00/254 [00:00<?, ?B/s]"
      ]
     },
     "metadata": {},
     "output_type": "display_data"
    },
    {
     "data": {
      "application/vnd.jupyter.widget-view+json": {
       "model_id": "6aa9f193ff234205b027d9721e0652e3",
       "version_major": 2,
       "version_minor": 0
      },
      "text/plain": [
       "Downloading (…)okenizer_config.json:   0%|          | 0.00/397 [00:00<?, ?B/s]"
      ]
     },
     "metadata": {},
     "output_type": "display_data"
    },
    {
     "data": {
      "application/vnd.jupyter.widget-view+json": {
       "model_id": "8fdd39d92f744b0697f442d49d41a99d",
       "version_major": 2,
       "version_minor": 0
      },
      "text/plain": [
       "Downloading (…)olve/main/vocab.json:   0%|          | 0.00/1.34M [00:00<?, ?B/s]"
      ]
     },
     "metadata": {},
     "output_type": "display_data"
    },
    {
     "data": {
      "application/vnd.jupyter.widget-view+json": {
       "model_id": "608ea2ddfacd41b19d979c234bf66372",
       "version_major": 2,
       "version_minor": 0
      },
      "text/plain": [
       "Downloading (…)cial_tokens_map.json:   0%|          | 0.00/96.0 [00:00<?, ?B/s]"
      ]
     },
     "metadata": {},
     "output_type": "display_data"
    }
   ],
   "source": [
    "processor = AutoProcessor.from_pretrained(\"facebook/mms-1b-all\")\n"
   ]
  },
  {
   "cell_type": "code",
   "execution_count": 8,
   "id": "f3aa2e67",
   "metadata": {},
   "outputs": [],
   "source": [
    "processor.save_pretrained('./mms-1b-all')"
   ]
  },
  {
   "cell_type": "code",
   "execution_count": 6,
   "id": "5983a2b4",
   "metadata": {},
   "outputs": [
    {
     "data": {
      "text/plain": [
       "0"
      ]
     },
     "execution_count": 6,
     "metadata": {},
     "output_type": "execute_result"
    }
   ],
   "source": [
    "processor.tokenizer.pad_token_id"
   ]
  },
  {
   "cell_type": "code",
   "execution_count": 19,
   "id": "46651bdb",
   "metadata": {},
   "outputs": [],
   "source": [
    "\n",
    "tokenizer = Wav2Vec2CTCTokenizer(\n",
    "    \"vocab.json\", \n",
    "    unk_token=\"<unk>\",\n",
    "    pad_token=\"<pad>\",\n",
    "    word_delimiter_token=\"|\"\n",
    ")"
   ]
  },
  {
   "cell_type": "code",
   "execution_count": 20,
   "id": "4a2204a2",
   "metadata": {},
   "outputs": [
    {
     "data": {
      "text/plain": [
       "['ন',\n",
       " 'া',\n",
       " 'চ',\n",
       " '|',\n",
       " 'শ',\n",
       " 'ে',\n",
       " 'ষ',\n",
       " '|',\n",
       " 'হ',\n",
       " 'ও',\n",
       " 'য',\n",
       " '়',\n",
       " 'া',\n",
       " 'র',\n",
       " '|',\n",
       " 'প',\n",
       " 'র',\n",
       " '|',\n",
       " 'স',\n",
       " 'ক',\n",
       " 'ল',\n",
       " 'ে',\n",
       " '|',\n",
       " 'শ',\n",
       " 'র',\n",
       " 'ী',\n",
       " 'র',\n",
       " '|',\n",
       " 'ধ',\n",
       " 'ু',\n",
       " 'য',\n",
       " '়',\n",
       " 'ে',\n",
       " '|',\n",
       " 'এ',\n",
       " 'ক',\n",
       " 'স',\n",
       " 'ঙ',\n",
       " '্',\n",
       " 'গ',\n",
       " 'ে',\n",
       " '|',\n",
       " 'ভ',\n",
       " 'ো',\n",
       " 'জ',\n",
       " 'ন',\n",
       " '.']"
      ]
     },
     "execution_count": 20,
     "metadata": {},
     "output_type": "execute_result"
    }
   ],
   "source": [
    "sentence = \"নাচ শেষ হওয়ার পর সকলে শরীর ধুয়ে একসঙ্গে ভোজন.\"\n",
    "\n",
    "tokenizer.tokenize(sentence)"
   ]
  },
  {
   "cell_type": "code",
   "execution_count": 16,
   "id": "da9502bc",
   "metadata": {
    "scrolled": false
   },
   "outputs": [
    {
     "data": {
      "text/plain": [
       "{'!': 115,\n",
       " '\"': 46,\n",
       " '%': 113,\n",
       " \"'\": 71,\n",
       " '+': 124,\n",
       " ',': 70,\n",
       " '-': 55,\n",
       " '.': 75,\n",
       " '/': 85,\n",
       " '0': 48,\n",
       " '1': 52,\n",
       " '2': 57,\n",
       " '3': 65,\n",
       " '4': 63,\n",
       " '5': 62,\n",
       " '6': 68,\n",
       " '7': 72,\n",
       " '8': 69,\n",
       " '9': 61,\n",
       " ':': 79,\n",
       " ';': 108,\n",
       " '</s>': 2,\n",
       " '<pad>': 0,\n",
       " '<s>': 1,\n",
       " '<unk>': 3,\n",
       " '?': 131,\n",
       " '[': 127,\n",
       " ']': 128,\n",
       " 'a': 73,\n",
       " 'b': 105,\n",
       " 'c': 77,\n",
       " 'd': 99,\n",
       " 'e': 101,\n",
       " 'f': 114,\n",
       " 'g': 104,\n",
       " 'h': 100,\n",
       " 'i': 89,\n",
       " 'j': 132,\n",
       " 'k': 110,\n",
       " 'l': 103,\n",
       " 'm': 86,\n",
       " 'n': 92,\n",
       " 'o': 97,\n",
       " 'p': 87,\n",
       " 'q': 122,\n",
       " 'r': 98,\n",
       " 's': 84,\n",
       " 't': 83,\n",
       " 'u': 96,\n",
       " 'v': 102,\n",
       " 'w': 106,\n",
       " 'x': 111,\n",
       " 'y': 109,\n",
       " 'z': 126,\n",
       " '|': 4,\n",
       " '£': 129,\n",
       " '¥': 117,\n",
       " '°': 121,\n",
       " 'á': 134,\n",
       " 'í': 123,\n",
       " 'õ': 118,\n",
       " 'ú': 133,\n",
       " 'ü': 125,\n",
       " '।': 50,\n",
       " 'ঁ': 54,\n",
       " 'ং': 36,\n",
       " 'ঃ': 76,\n",
       " 'অ': 34,\n",
       " 'আ': 35,\n",
       " 'ই': 31,\n",
       " 'ঈ': 107,\n",
       " 'উ': 44,\n",
       " 'ঊ': 119,\n",
       " 'ঋ': 120,\n",
       " 'এ': 23,\n",
       " 'ঐ': 82,\n",
       " 'ও': 41,\n",
       " 'ঔ': 116,\n",
       " 'ক': 11,\n",
       " 'খ': 43,\n",
       " 'গ': 27,\n",
       " 'ঘ': 51,\n",
       " 'ঙ': 59,\n",
       " 'চ': 38,\n",
       " 'ছ': 29,\n",
       " 'জ': 26,\n",
       " 'ঝ': 66,\n",
       " 'ঞ': 56,\n",
       " 'ট': 20,\n",
       " 'ঠ': 53,\n",
       " 'ড': 39,\n",
       " 'ঢ': 94,\n",
       " 'ণ': 42,\n",
       " 'ত': 14,\n",
       " 'থ': 32,\n",
       " 'দ': 22,\n",
       " 'ধ': 40,\n",
       " 'ন': 10,\n",
       " 'প': 17,\n",
       " 'ফ': 45,\n",
       " 'ব': 13,\n",
       " 'ভ': 33,\n",
       " 'ম': 19,\n",
       " 'য': 12,\n",
       " 'র': 6,\n",
       " 'ল': 16,\n",
       " 'শ': 28,\n",
       " 'ষ': 37,\n",
       " 'স': 15,\n",
       " 'হ': 24,\n",
       " '়': 18,\n",
       " 'া': 5,\n",
       " 'ি': 9,\n",
       " 'ী': 30,\n",
       " 'ু': 21,\n",
       " 'ূ': 47,\n",
       " 'ৃ': 49,\n",
       " 'ে': 7,\n",
       " 'ৈ': 58,\n",
       " 'ো': 25,\n",
       " 'ৌ': 60,\n",
       " '্': 8,\n",
       " 'ৎ': 64,\n",
       " '০': 67,\n",
       " '১': 74,\n",
       " '২': 80,\n",
       " '৩': 93,\n",
       " '৪': 78,\n",
       " '৫': 90,\n",
       " '৬': 88,\n",
       " '৭': 95,\n",
       " '৮': 91,\n",
       " '৯': 81,\n",
       " '৷': 130,\n",
       " '\\u200d': 112,\n",
       " '—': 135}"
      ]
     },
     "execution_count": 16,
     "metadata": {},
     "output_type": "execute_result"
    }
   ],
   "source": [
    "processor.tokenizer.vocab['ben']"
   ]
  },
  {
   "cell_type": "code",
   "execution_count": 11,
   "id": "8712e474",
   "metadata": {
    "scrolled": false
   },
   "outputs": [
    {
     "data": {
      "text/plain": [
       "Wav2Vec2Config {\n",
       "  \"_name_or_path\": \"facebook/mms-1b-all\",\n",
       "  \"activation_dropout\": 0.05,\n",
       "  \"adapter_attn_dim\": 16,\n",
       "  \"adapter_kernel_size\": 3,\n",
       "  \"adapter_stride\": 2,\n",
       "  \"add_adapter\": false,\n",
       "  \"apply_spec_augment\": true,\n",
       "  \"architectures\": [\n",
       "    \"Wav2Vec2ForCTC\"\n",
       "  ],\n",
       "  \"attention_dropout\": 0.05,\n",
       "  \"bos_token_id\": 1,\n",
       "  \"classifier_proj_size\": 256,\n",
       "  \"codevector_dim\": 1024,\n",
       "  \"contrastive_logits_temperature\": 0.1,\n",
       "  \"conv_bias\": true,\n",
       "  \"conv_dim\": [\n",
       "    512,\n",
       "    512,\n",
       "    512,\n",
       "    512,\n",
       "    512,\n",
       "    512,\n",
       "    512\n",
       "  ],\n",
       "  \"conv_kernel\": [\n",
       "    10,\n",
       "    3,\n",
       "    3,\n",
       "    3,\n",
       "    3,\n",
       "    2,\n",
       "    2\n",
       "  ],\n",
       "  \"conv_stride\": [\n",
       "    5,\n",
       "    2,\n",
       "    2,\n",
       "    2,\n",
       "    2,\n",
       "    2,\n",
       "    2\n",
       "  ],\n",
       "  \"ctc_loss_reduction\": \"mean\",\n",
       "  \"ctc_zero_infinity\": false,\n",
       "  \"diversity_loss_weight\": 0.1,\n",
       "  \"do_stable_layer_norm\": true,\n",
       "  \"eos_token_id\": 2,\n",
       "  \"feat_extract_activation\": \"gelu\",\n",
       "  \"feat_extract_dropout\": 0.0,\n",
       "  \"feat_extract_norm\": \"layer\",\n",
       "  \"feat_proj_dropout\": 0.05,\n",
       "  \"feat_quantizer_dropout\": 0.0,\n",
       "  \"final_dropout\": 0.05,\n",
       "  \"hidden_act\": \"gelu\",\n",
       "  \"hidden_dropout\": 0.05,\n",
       "  \"hidden_size\": 1280,\n",
       "  \"initializer_range\": 0.02,\n",
       "  \"intermediate_size\": 5120,\n",
       "  \"layer_norm_eps\": 1e-05,\n",
       "  \"layerdrop\": 0.05,\n",
       "  \"mask_feature_length\": 10,\n",
       "  \"mask_feature_min_masks\": 0,\n",
       "  \"mask_feature_prob\": 0.0,\n",
       "  \"mask_time_length\": 10,\n",
       "  \"mask_time_min_masks\": 2,\n",
       "  \"mask_time_prob\": 0.05,\n",
       "  \"model_type\": \"wav2vec2\",\n",
       "  \"num_adapter_layers\": 3,\n",
       "  \"num_attention_heads\": 16,\n",
       "  \"num_codevector_groups\": 2,\n",
       "  \"num_codevectors_per_group\": 320,\n",
       "  \"num_conv_pos_embedding_groups\": 16,\n",
       "  \"num_conv_pos_embeddings\": 128,\n",
       "  \"num_feat_extract_layers\": 7,\n",
       "  \"num_hidden_layers\": 48,\n",
       "  \"num_negatives\": 100,\n",
       "  \"output_hidden_size\": 1280,\n",
       "  \"pad_token_id\": 0,\n",
       "  \"proj_codevector_dim\": 1024,\n",
       "  \"tdnn_dilation\": [\n",
       "    1,\n",
       "    2,\n",
       "    3,\n",
       "    1,\n",
       "    1\n",
       "  ],\n",
       "  \"tdnn_dim\": [\n",
       "    512,\n",
       "    512,\n",
       "    512,\n",
       "    512,\n",
       "    1500\n",
       "  ],\n",
       "  \"tdnn_kernel\": [\n",
       "    5,\n",
       "    3,\n",
       "    3,\n",
       "    1,\n",
       "    1\n",
       "  ],\n",
       "  \"torch_dtype\": \"float32\",\n",
       "  \"transformers_version\": \"4.32.1\",\n",
       "  \"use_weighted_layer_sum\": false,\n",
       "  \"vocab_size\": 154,\n",
       "  \"xvector_output_dim\": 512\n",
       "}"
      ]
     },
     "execution_count": 11,
     "metadata": {},
     "output_type": "execute_result"
    }
   ],
   "source": [
    "model.config"
   ]
  },
  {
   "cell_type": "code",
   "execution_count": 13,
   "id": "3f772c35",
   "metadata": {},
   "outputs": [
    {
     "data": {
      "text/plain": [
       "154"
      ]
     },
     "execution_count": 13,
     "metadata": {},
     "output_type": "execute_result"
    }
   ],
   "source": [
    "len(processor.tokenizer)"
   ]
  },
  {
   "cell_type": "code",
   "execution_count": null,
   "id": "ecec6435",
   "metadata": {},
   "outputs": [],
   "source": []
  }
 ],
 "metadata": {
  "kernelspec": {
   "display_name": "Python 3 (ipykernel)",
   "language": "python",
   "name": "python3"
  },
  "language_info": {
   "codemirror_mode": {
    "name": "ipython",
    "version": 3
   },
   "file_extension": ".py",
   "mimetype": "text/x-python",
   "name": "python",
   "nbconvert_exporter": "python",
   "pygments_lexer": "ipython3",
   "version": "3.10.12"
  }
 },
 "nbformat": 4,
 "nbformat_minor": 5
}
