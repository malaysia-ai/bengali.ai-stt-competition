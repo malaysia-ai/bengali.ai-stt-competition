{
 "cells": [
  {
   "cell_type": "code",
   "execution_count": 1,
   "id": "00831f47",
   "metadata": {},
   "outputs": [
    {
     "name": "stdout",
     "output_type": "stream",
     "text": [
      "Will not apply HSTS. The HSTS database must be a regular and non-world-writable file.\n",
      "ERROR: could not open HSTS store at '/home/ubuntu/.wget-hsts'. HSTS will be disabled.\n",
      "--2023-09-11 07:36:24--  https://kheafield.com/code/kenlm.tar.gz\n",
      "Resolving kheafield.com (kheafield.com)... 35.196.63.85\n",
      "Connecting to kheafield.com (kheafield.com)|35.196.63.85|:443... connected.\n",
      "HTTP request sent, awaiting response... 200 OK\n",
      "Length: 491888 (480K) [application/x-gzip]\n",
      "Saving to: ‘STDOUT’\n",
      "\n",
      "-                   100%[===================>] 480.36K   408KB/s    in 1.2s    \n",
      "\n",
      "2023-09-11 07:36:27 (408 KB/s) - written to stdout [491888/491888]\n",
      "\n"
     ]
    }
   ],
   "source": [
    "!wget -O - https://kheafield.com/code/kenlm.tar.gz |tar xz"
   ]
  },
  {
   "cell_type": "code",
   "execution_count": 2,
   "id": "89f8d166",
   "metadata": {},
   "outputs": [
    {
     "name": "stdout",
     "output_type": "stream",
     "text": [
      " Inference-Trial-0.ipynb      install-kenlm.sh\r\n",
      " README.md\t\t      kenlm\r\n",
      " audio-augmentation.ipynb     kenlm-test.ipynb\r\n",
      " bengali-speech-eda.ipynb     kenlm.ipynb\r\n",
      " check-unknown.ipynb\t      prepare-data.ipynb\r\n",
      " explore-vocab.ipynb\t     'the problem of overfitting butter chicken.ipynb'\r\n",
      " inference-ariff.ipynb\t      training\r\n",
      " inference-validation.ipynb   vocab.json\r\n",
      " inference.ipynb\r\n"
     ]
    }
   ],
   "source": [
    "!ls"
   ]
  },
  {
   "cell_type": "code",
   "execution_count": null,
   "id": "ef0eae9a",
   "metadata": {},
   "outputs": [],
   "source": []
  }
 ],
 "metadata": {
  "kernelspec": {
   "display_name": "Python 3 (ipykernel)",
   "language": "python",
   "name": "python3"
  },
  "language_info": {
   "codemirror_mode": {
    "name": "ipython",
    "version": 3
   },
   "file_extension": ".py",
   "mimetype": "text/x-python",
   "name": "python",
   "nbconvert_exporter": "python",
   "pygments_lexer": "ipython3",
   "version": "3.10.12"
  }
 },
 "nbformat": 4,
 "nbformat_minor": 5
}
